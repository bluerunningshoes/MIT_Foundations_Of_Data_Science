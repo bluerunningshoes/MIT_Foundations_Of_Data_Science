{
 "cells": [
  {
   "cell_type": "code",
   "execution_count": 60,
   "id": "f201f33d",
   "metadata": {},
   "outputs": [],
   "source": [
    "class Solution(object):\n",
    "    def longestCommonPrefix(self, strs):\n",
    "        \"\"\"\n",
    "        :type strs: List[str]\n",
    "        :rtype: str\n",
    "        \"\"\"\n",
    "        #iterate through the first characters of each string. if none of them match, return nothing. if all of them match, return the first few characters that match.\n",
    "        output = ''\n",
    "        if not strs: return ''\n",
    "        \n",
    "        min_word = strs[0]\n",
    "        for word in strs:\n",
    "            if len(word) < len(min_word):\n",
    "                min_word = word \n",
    "        \n",
    "        for i, c in enumerate(min_word):\n",
    "            for word in strs:\n",
    "                if c != word[i]:\n",
    "                    return output\n",
    "            output += c\n",
    "        return output"
   ]
  },
  {
   "cell_type": "code",
   "execution_count": 61,
   "id": "b13abe54",
   "metadata": {},
   "outputs": [],
   "source": [
    "arg_input = [\"flower\",\"flow\",\"flight\"]"
   ]
  },
  {
   "cell_type": "code",
   "execution_count": 62,
   "id": "d490a658",
   "metadata": {},
   "outputs": [],
   "source": [
    "Sln = Solution()"
   ]
  },
  {
   "cell_type": "code",
   "execution_count": 63,
   "id": "291fe435",
   "metadata": {},
   "outputs": [
    {
     "data": {
      "text/plain": [
       "'fl'"
      ]
     },
     "execution_count": 63,
     "metadata": {},
     "output_type": "execute_result"
    }
   ],
   "source": [
    "Sln.longestCommonPrefix(arg_input)"
   ]
  },
  {
   "cell_type": "code",
   "execution_count": 23,
   "id": "d2287619",
   "metadata": {},
   "outputs": [
    {
     "name": "stdout",
     "output_type": "stream",
     "text": [
      "flow\n"
     ]
    }
   ],
   "source": [
    "arg_input = [\"flower\",\"flow\",\"flight\"]\n",
    "\n",
    "\n",
    "smallest_word = arg_input[0]\n",
    "for word in arg_input:\n",
    "    if len(word) < len(smallest_word):\n",
    "        smallest_word = word\n",
    "\n",
    "print(smallest_word)"
   ]
  },
  {
   "cell_type": "code",
   "execution_count": 15,
   "id": "e1262b7c",
   "metadata": {},
   "outputs": [],
   "source": [
    "class Solution(object):\n",
    "    def longestCommonPrefix(self, strs):\n",
    "        # Lets find the smallest word to avoid an index out of bounds\n",
    "        min_word = len(strs[0])\n",
    "        for word in strs:\n",
    "            if len(word) < len(smallest_word):\n",
    "                min_word = word\n",
    "        \n",
    "        for word in strs:\n",
    "            for \n",
    "\n",
    "        # Lets have a count to ensure we don't go over the length of the smallest word\n",
    "        # The reason being:\n",
    "        # the smallest word is the largest prefix\n",
    "        count = 0\n",
    "        \n",
    "        # Create an empty prefix\n",
    "        prefix = \"\"\n",
    "        while count < len(min_word):\n",
    "            # We'll just default to the first item in the list\n",
    "            # the prefix will be the index of the word\n",
    "            # e.g. word: flower\n",
    "            # if count = 0, then start_prefix = f\n",
    "            # if count = 1, then start_prefix = l\n",
    "            # if count = 2, then start_prefix = o\n",
    "            # if count = 3, then start_prefix = w\n",
    "            # if count = 4, then start_prefix = e\n",
    "            # if count = 5, then start_prefix = r\n",
    "            # if count = 6, well, this wouldn't happen since\n",
    "            # the while loop will stop looping\n",
    "            start_prefix = strs[0][count]\n",
    "            # Loop through all the words\n",
    "            # If the prefix doesn't match, \n",
    "            # then we know we have the longest possible prefix so we return it\n",
    "            for word in strs:\n",
    "                if word[count] != start_prefix:\n",
    "                    return prefix\n",
    "            # Once the loop is done, we know that the \n",
    "            # letter is the same for all items in the list\n",
    "            prefix += start_prefix\n",
    "            # Move the counter by 1 to compare the next letter to all\n",
    "            # items in the list\n",
    "            count += 1\n",
    "            \n",
    "        return prefix"
   ]
  },
  {
   "cell_type": "code",
   "execution_count": null,
   "id": "7f78c03c",
   "metadata": {},
   "outputs": [],
   "source": []
  }
 ],
 "metadata": {
  "kernelspec": {
   "display_name": "Python 3",
   "language": "python",
   "name": "python3"
  },
  "language_info": {
   "codemirror_mode": {
    "name": "ipython",
    "version": 3
   },
   "file_extension": ".py",
   "mimetype": "text/x-python",
   "name": "python",
   "nbconvert_exporter": "python",
   "pygments_lexer": "ipython3",
   "version": "3.8.8"
  }
 },
 "nbformat": 4,
 "nbformat_minor": 5
}
