{
 "cells": [
  {
   "cell_type": "markdown",
   "metadata": {
    "colab_type": "text",
    "id": "fuVrsAUzWhBn"
   },
   "source": [
    "#### 1. Write a program to find BMI of the patients whose height and weight is provided in the list given below"
   ]
  },
  {
   "cell_type": "markdown",
   "metadata": {
    "colab_type": "text",
    "id": "ZVMmbrQGWqwC"
   },
   "source": [
    "Use the lists given below:\n",
    "\n",
    "list of weights (in kg) weights = [57, 69, 54, 65 ,71, 62, 56]\n",
    "\n",
    "list of heights (in m)\n",
    "heights = [1.59, 1.75, 1.66, 1.74, 1.64, 1.72, 1.53]"
   ]
  },
  {
   "cell_type": "code",
   "execution_count": 3,
   "metadata": {},
   "outputs": [
    {
     "data": {
      "text/plain": [
       "array([35.8490566 , 39.42857143, 32.53012048, 37.35632184, 43.29268293,\n",
       "       36.04651163, 36.60130719])"
      ]
     },
     "execution_count": 3,
     "metadata": {},
     "output_type": "execute_result"
    }
   ],
   "source": [
    "import numpy\n",
    "weights = [57, 69, 54, 65 ,71, 62, 56]\n",
    "heights = [1.59, 1.75, 1.66, 1.74, 1.64, 1.72, 1.53]\n",
    "\n",
    "# convert the list to array\n",
    "np_weights = numpy.array(weights)\n",
    "np_heights = numpy.array(heights)\n",
    "# formula to calculate BMI\n",
    "np_weights / np_heights"
   ]
  },
  {
   "cell_type": "code",
   "execution_count": 0,
   "metadata": {
    "colab": {},
    "colab_type": "code",
    "id": "qdn4-UzBZR-T"
   },
   "outputs": [],
   "source": []
  }
 ],
 "metadata": {
  "colab": {
   "collapsed_sections": [],
   "name": "Numpy.ipynb",
   "provenance": []
  },
  "kernelspec": {
   "display_name": "Python 3",
   "language": "python",
   "name": "python3"
  },
  "language_info": {
   "codemirror_mode": {
    "name": "ipython",
    "version": 3
   },
   "file_extension": ".py",
   "mimetype": "text/x-python",
   "name": "python",
   "nbconvert_exporter": "python",
   "pygments_lexer": "ipython3",
   "version": "3.8.8"
  }
 },
 "nbformat": 4,
 "nbformat_minor": 1
}
