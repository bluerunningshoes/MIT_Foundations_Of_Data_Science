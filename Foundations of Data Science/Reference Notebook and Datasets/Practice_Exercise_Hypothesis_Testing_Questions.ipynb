{
 "cells": [
  {
   "cell_type": "markdown",
   "metadata": {},
   "source": [
    "### Importing the necessary libraries"
   ]
  },
  {
   "cell_type": "code",
   "execution_count": 1,
   "metadata": {},
   "outputs": [],
   "source": [
    "import numpy as np\n",
    "import pandas as pd\n",
    "import matplotlib.pyplot as plt\n",
    "import scipy.stats as stats"
   ]
  },
  {
   "cell_type": "markdown",
   "metadata": {},
   "source": [
    "### Q1. Samy, Product Manager of K2 Jeans, wants to Launch a product line into a new market area. A survey of a random sample of 400 households in that market showed a mean income of 30000 rupees per household. The standard deviation based on an earlier pilot study is 8000 rupees. Samy strongly believes that the product line will be adequately profitable only in markets where the mean household income is greater than 29000 rupees. Samy wants your help in deciding whether the product line should be introduced in the new market. Perform statistical analysis with a significance level of 0.05 and conclude."
   ]
  },
  {
   "cell_type": "code",
   "execution_count": null,
   "metadata": {},
   "outputs": [],
   "source": []
  },
  {
   "cell_type": "markdown",
   "metadata": {},
   "source": [
    "# One-sample t-test"
   ]
  },
  {
   "cell_type": "markdown",
   "metadata": {
    "_cell_guid": "9b9566bb-e9b5-4b48-9b45-0194167d2b2b",
    "_uuid": "6256e72b89e829fc8583163418120a3e50aaa156",
    "colab_type": "text",
    "id": "euOWOovJE43G"
   },
   "source": [
    "### Q2. The average mass of all acorns is 10 g. The mass of 20 acorns collected from a forest, subjected to acid rain from a coal power plant, are m = 8.8, 6.6, 9.5, 11.2, 10.2, 7.4, 8.0, 9.6, 9.9, 9.0, 7.6, 7.4, 10.4, 11.1, 8.5, 10.0, 11.6, 10.7, 10.3, and 7.0 g. Is there enough statistical evidence to conclude that the average mass of this sample is different from the average mass of acorns with a significance level of 0.05?"
   ]
  },
  {
   "cell_type": "markdown",
   "metadata": {},
   "source": [
    "**a) Formulate the null and alternate hypotheses**"
   ]
  },
  {
   "cell_type": "code",
   "execution_count": null,
   "metadata": {},
   "outputs": [],
   "source": []
  },
  {
   "cell_type": "markdown",
   "metadata": {},
   "source": [
    "**b) Calculate the test-statistics and based on the p-value provide a conclusion.**"
   ]
  },
  {
   "cell_type": "code",
   "execution_count": null,
   "metadata": {},
   "outputs": [],
   "source": []
  },
  {
   "cell_type": "markdown",
   "metadata": {},
   "source": [
    "# Independent (unpaired) two-sample t-test"
   ]
  },
  {
   "cell_type": "markdown",
   "metadata": {
    "_cell_guid": "fd17fd23-4f92-403e-aada-0b61433b22e9",
    "_uuid": "948240552a9daac38010e7ec652d02adbdfab6f7",
    "colab_type": "text",
    "id": "ulAnmKcwE43M"
   },
   "source": [
    "### Q3. The mass of N<sub>1</sub>=20 acorns from oak trees upwind from a coal power plant and N<sub>2</sub>=30 acorns from oak trees downwind from the same coal power plant are measured. Is the mass of acorns from trees downwind different from the ones from upwind? \n",
    "\n",
    "**Note:** \n",
    "- The sample sizes are not equal but we will assume that the population variance of sample 1 and sample 2 are equal to satisfy the assumptions.\n",
    "- Since the significance level is not provided. We can assume it to be 0.05\n",
    "\n",
    "#### sample upwind:\n",
    "x1 = [10.8, 10.0, 8.2, 9.9, 11.6, 10.1, 11.3, 10.3, 10.7, 9.7, \n",
    "      7.8, 9.6, 9.7, 11.6, 10.3, 9.8, 12.3, 11.0, 10.4, 10.4]\n",
    "\n",
    "#### sample downwind:\n",
    "x2 = [7.8, 7.5, 9.5, 11.7, 8.1, 8.8, 8.8, 7.7, 9.7, 7.0, \n",
    "      9.0, 9.7, 11.3, 8.7, 8.8, 10.9, 10.3, 9.6, 8.4, 6.6,\n",
    "      7.2, 7.6, 11.5, 6.6, 8.6, 10.5, 8.4, 8.5, 10.2, 9.2]"
   ]
  },
  {
   "cell_type": "markdown",
   "metadata": {},
   "source": [
    "**a) Formulate null and alternate hypotheses.**"
   ]
  },
  {
   "cell_type": "code",
   "execution_count": null,
   "metadata": {},
   "outputs": [],
   "source": []
  },
  {
   "cell_type": "markdown",
   "metadata": {},
   "source": [
    "**b) Calculate the test-statistic and based on p-value provide a conclusion.**"
   ]
  },
  {
   "cell_type": "code",
   "execution_count": null,
   "metadata": {},
   "outputs": [],
   "source": []
  },
  {
   "cell_type": "markdown",
   "metadata": {},
   "source": [
    "# Paired samples t-test"
   ]
  },
  {
   "cell_type": "markdown",
   "metadata": {
    "_cell_guid": "9b5d97b5-9c0c-4a45-b333-36d3bdeecdcc",
    "_uuid": "8520e337989f942369ad861e6aebece17394efe3",
    "colab_type": "text",
    "collapsed": true,
    "id": "1qEyYs3GE43P"
   },
   "source": [
    "### Q4. The average mass of acorns from the same N=30 trees downwind of a power plant is measured before (x<sub>1</sub>) and after (x<sub>2</sub>) the power plant converts burning coal to burning natural gas. Does the mass of the acorns change after the conversion from coal to natural gas? \n",
    "\n",
    "**Note**: Since the significance level is not provided. We can assume it to be 0.05\n",
    "\n",
    "### sample before conversion to natural gas\n",
    "x1 = np.array([10.8, 6.4, 8.3, 7.6, 11.4, 9.9, 10.6, 8.7, 8.1, 10.9,\n",
    "      11.0, 11.8, 7.3, 9.6, 9.3, 9.9, 9.0, 9.5, 10.6, 10.3,\n",
    "      8.8, 12.3, 8.9, 10.5, 11.6, 7.6, 8.9, 10.4, 10.2, 8.8])\n",
    "\n",
    "### sample after conversion to natural gas\n",
    "x2 = np.array([10.1, 6.9, 8.6, 8.8, 12.1, 11.3, 12.4, 9.3, 9.3, 10.8,\n",
    "      12.4, 11.5, 7.4, 10.0, 11.1, 10.6, 9.4, 9.5, 10.0, 10.0,\n",
    "      9.7, 13.5, 9.6, 11.6, 11.7, 7.9, 8.6, 10.8, 9.5, 9.6])\n",
    "\n"
   ]
  },
  {
   "cell_type": "markdown",
   "metadata": {},
   "source": [
    "**a) Formulate null and alternate hypotheses.**"
   ]
  },
  {
   "cell_type": "code",
   "execution_count": null,
   "metadata": {},
   "outputs": [],
   "source": []
  },
  {
   "cell_type": "markdown",
   "metadata": {},
   "source": [
    "**b) Calculate the test-statistic and based on p-value provide a conclusion.**"
   ]
  },
  {
   "cell_type": "code",
   "execution_count": null,
   "metadata": {},
   "outputs": [],
   "source": []
  }
 ],
 "metadata": {
  "kernelspec": {
   "display_name": "Python 3",
   "language": "python",
   "name": "python3"
  },
  "language_info": {
   "codemirror_mode": {
    "name": "ipython",
    "version": 3
   },
   "file_extension": ".py",
   "mimetype": "text/x-python",
   "name": "python",
   "nbconvert_exporter": "python",
   "pygments_lexer": "ipython3",
   "version": "3.8.3"
  },
  "toc": {
   "base_numbering": 1,
   "nav_menu": {},
   "number_sections": true,
   "sideBar": true,
   "skip_h1_title": false,
   "title_cell": "Table of Contents",
   "title_sidebar": "Contents",
   "toc_cell": false,
   "toc_position": {},
   "toc_section_display": true,
   "toc_window_display": false
  }
 },
 "nbformat": 4,
 "nbformat_minor": 4
}
