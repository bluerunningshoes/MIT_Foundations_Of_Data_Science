{
 "cells": [
  {
   "cell_type": "markdown",
   "metadata": {
    "id": "ndOsvItYTg-R"
   },
   "source": [
    "#**Milestone 2**"
   ]
  },
  {
   "cell_type": "code",
   "execution_count": null,
   "metadata": {
    "id": "YEDoTTnbuiRF"
   },
   "outputs": [],
   "source": [
    "# It is recommended to upgrade the statsmodels library. \n",
    "# Uncomment the below code to upgrade statsmodels\n",
    "#!pip install statsmodels --upgrade"
   ]
  },
  {
   "cell_type": "markdown",
   "metadata": {
    "id": "ImKq12UQ-gtC"
   },
   "source": [
    "### **Natural gas based CO2 emission forecasting**"
   ]
  },
  {
   "cell_type": "markdown",
   "metadata": {
    "id": "_1ztc4I8_dYD"
   },
   "source": [
    "For developing the time series model and forecasting, you are expected to use the natural gas CO2 emission from the electrical power generation. We need to slice this data:"
   ]
  },
  {
   "cell_type": "code",
   "execution_count": null,
   "metadata": {
    "id": "W0nzeIaA_cZ9"
   },
   "outputs": [],
   "source": [
    "###Slice the data to get the monthly total CO2 emissions of Natural Gas Electric Power Sector\n",
    " "
   ]
  },
  {
   "cell_type": "code",
   "execution_count": null,
   "metadata": {
    "id": "AIFzFIwa9gmN"
   },
   "outputs": [],
   "source": [
    " #Check 1st few rows of data\n"
   ]
  },
  {
   "cell_type": "markdown",
   "metadata": {
    "id": "B5o58ikzZ4VJ"
   },
   "source": [
    "###**Split the dataset**"
   ]
  },
  {
   "cell_type": "code",
   "execution_count": null,
   "metadata": {
    "id": "ntpQTlJJZykI"
   },
   "outputs": [],
   "source": [
    "# Split the data into train and test"
   ]
  },
  {
   "cell_type": "markdown",
   "metadata": {
    "id": "OoI_KXuOBgcS"
   },
   "source": [
    "###**Test the Stationarity**"
   ]
  },
  {
   "cell_type": "code",
   "execution_count": null,
   "metadata": {
    "id": "s76c_hzK_Sg3"
   },
   "outputs": [],
   "source": [
    "#Import the required package\n",
    "\n",
    "import statsmodels\n",
    "import statsmodels.api as sm\n",
    "from statsmodels.tsa.stattools import coint, adfuller"
   ]
  },
  {
   "cell_type": "markdown",
   "metadata": {
    "id": "5DDKCUtCB59A"
   },
   "source": [
    "###**Test the stationarity through Visualization**"
   ]
  },
  {
   "cell_type": "code",
   "execution_count": null,
   "metadata": {
    "id": "Bt4y7zusBv5b"
   },
   "outputs": [],
   "source": [
    "# Calculate the rolling mean and standard deviation for a window of 12 observations\n",
    "\n",
    "\n",
    "# Visualize the rolling mean and standard deviation\n"
   ]
  },
  {
   "cell_type": "markdown",
   "metadata": {
    "id": "AnwqnEeDDxUh"
   },
   "source": [
    "#### **Observations and Insights: ____**"
   ]
  },
  {
   "cell_type": "markdown",
   "metadata": {
    "id": "2kbkBI8HEFJe"
   },
   "source": [
    "### **Test the stationarity using the Augmented Dickey-Fuller Test**"
   ]
  },
  {
   "cell_type": "markdown",
   "metadata": {
    "id": "QQr0yVIKlAp5"
   },
   "source": [
    "Use the **Augmented Dickey-Fuller (ADF) Test** to verify if the series is stationary or not. The null and alternate hypotheses for the ADF Test are defined as:\n",
    "\n",
    "**- Null hypothesis:** The Time Series is non-stationary\n",
    "\n",
    "\n",
    "**- Alternative hypothesis:** The Time Series is stationary"
   ]
  },
  {
   "cell_type": "code",
   "execution_count": null,
   "metadata": {
    "id": "v5lKIQbslcp1"
   },
   "outputs": [],
   "source": [
    "#Define a function to use adfuller test\n",
    "def adfuller(dataset):\n",
    "  #Code here"
   ]
  },
  {
   "cell_type": "markdown",
   "metadata": {
    "id": "fjwqnZVGJnC8"
   },
   "source": [
    "- **Observations and Insights**"
   ]
  },
  {
   "cell_type": "markdown",
   "metadata": {
    "id": "vu0r1kYWJ1rO"
   },
   "source": [
    "###**Transformation of the dataset into a stationary one**"
   ]
  },
  {
   "cell_type": "markdown",
   "metadata": {
    "id": "t9Wv-ufGnBRp"
   },
   "source": [
    "**We can use some of the following methods to convert a non-stationary series into a stationary one:**\n",
    "\n",
    "\n",
    "1. Log Transformation\n",
    "2. Differencing the series (lagged series)"
   ]
  },
  {
   "cell_type": "markdown",
   "metadata": {
    "id": "oOW6NcU-VN02"
   },
   "source": [
    "We take the average of ‘k’ consecutive values depending on the frequency of time series (in this capstone 12 months). \n",
    "\n",
    "Here, we will take the average over the past 1 year."
   ]
  },
  {
   "cell_type": "code",
   "execution_count": null,
   "metadata": {
    "id": "5fE2MvqLJqi6"
   },
   "outputs": [],
   "source": [
    " # Visualize the rolling mean and standard deviation after using log transformation"
   ]
  },
  {
   "cell_type": "markdown",
   "metadata": {
    "id": "25V8-kvKV7hN"
   },
   "source": [
    "**Observations and Insights: _____**"
   ]
  },
  {
   "cell_type": "markdown",
   "metadata": {
    "id": "jlQacDVzpfrJ"
   },
   "source": [
    "**Visualize the rolling mean and rolling standard deviation of the shifted series (df_shift) and check the stationarity by calling the adfuller() function. Also, write your observations on the same.**"
   ]
  },
  {
   "cell_type": "markdown",
   "metadata": {
    "id": "Ba4l7Uxopx1Z"
   },
   "source": [
    "####**Think about it:**\n",
    "\n",
    "- Do you need to remove the null values that we get after applying differencing method?"
   ]
  },
  {
   "cell_type": "code",
   "execution_count": null,
   "metadata": {
    "id": "8lPdBfDjpnRW"
   },
   "outputs": [],
   "source": [
    "##Code here"
   ]
  },
  {
   "cell_type": "markdown",
   "metadata": {
    "id": "FnnrMLufXjE-"
   },
   "source": [
    "**Observations and Insights: _____**"
   ]
  },
  {
   "cell_type": "code",
   "execution_count": null,
   "metadata": {
    "id": "gD_Haj9zqD-M"
   },
   "outputs": [],
   "source": [
    "adfuller(_____)"
   ]
  },
  {
   "cell_type": "markdown",
   "metadata": {
    "id": "vHIOPvYWqMe4"
   },
   "source": [
    "**Observations and Insights: _____**"
   ]
  },
  {
   "cell_type": "markdown",
   "metadata": {
    "id": "ZtttBdemiIxY"
   },
   "source": [
    "### **Elimination of trend and seasonality: Decomposition**"
   ]
  },
  {
   "cell_type": "code",
   "execution_count": null,
   "metadata": {
    "id": "IBBWQmpLh_ir"
   },
   "outputs": [],
   "source": [
    "#Importing the seasonal_decompose function to decompose the time series\n",
    "\n",
    "# You can follow the previous case study/projects notebook to plot it"
   ]
  },
  {
   "cell_type": "markdown",
   "metadata": {
    "id": "SWUmcqeyjQff"
   },
   "source": [
    "**Observations and Insights: ____**"
   ]
  },
  {
   "cell_type": "markdown",
   "metadata": {
    "id": "iv1j-3V3rM92"
   },
   "source": [
    "**Plot the auto-correlation function and partial auto-correlation function to get p and q values for AR, MA, ARMA, and ARIMA models**"
   ]
  },
  {
   "cell_type": "markdown",
   "metadata": {
    "id": "PtstH0CvKVMX"
   },
   "source": [
    "### **Find optimal parameters (P, Q) and build the AR, MA, ARMA & ARIMA models**"
   ]
  },
  {
   "cell_type": "markdown",
   "metadata": {
    "id": "umZ3XhCyK40g"
   },
   "source": [
    "**Plot the ACF and PACF charts and find the optimal parameters**"
   ]
  },
  {
   "cell_type": "code",
   "execution_count": null,
   "metadata": {
    "id": "igReFApvKmhu"
   },
   "outputs": [],
   "source": [
    "from statsmodels.graphics.tsaplots import plot_acf,plot_pacf\n",
    "\n",
    "plt.figure(figsize = (16,8))\n",
    "plot_acf(df_shift, lags = 12) \n",
    "plt.show() \n",
    "plot_pacf(df_shift, lags = 12) \n",
    "plt.show()"
   ]
  },
  {
   "cell_type": "markdown",
   "metadata": {
    "id": "lXp8sqECya6e"
   },
   "source": [
    "**Observations and Insights: _____**"
   ]
  },
  {
   "cell_type": "markdown",
   "metadata": {
    "id": "_Axk38bXXNcS"
   },
   "source": [
    "###**AR Model**"
   ]
  },
  {
   "cell_type": "markdown",
   "metadata": {
    "id": "XWfeMfKJXZDA"
   },
   "source": [
    "Order p is the lag value after which the PACF plot crosses the upper confidence interval for the first time. These p lags will act as our features while forecasting the AR time series.\n",
    "\n",
    "Fit and predict the shifted series with the AR Model and calculate the RMSE. Also, visualize the time series and write your observations."
   ]
  },
  {
   "cell_type": "code",
   "execution_count": null,
   "metadata": {
    "id": "soyaDVNSXJGd"
   },
   "outputs": [],
   "source": [
    "#Importing AutoReg function to apply AR model\n",
    "from statsmodels.tsa.ar_model import AutoReg\n",
    "\n",
    "#Code here"
   ]
  },
  {
   "cell_type": "markdown",
   "metadata": {
    "id": "_efov_VOz-Ym"
   },
   "source": [
    "**Observations & Insights: _____**"
   ]
  },
  {
   "cell_type": "markdown",
   "metadata": {
    "id": "3dkTbhOcXmK0"
   },
   "source": [
    "###**MA Model**\n",
    "\n",
    "####**Think about it:**\n",
    "\n",
    "- Do we really have to find AR & I value other than 0 to forecast on the MA based model?\n",
    "\n",
    "Order q of the MA process is obtained from the ACF plot, this is the lag after which ACF crosses the upper confidence interval for the first time.\n",
    "\n",
    "Fit and predict the shifted series with the MA Model and calculate the RMSE. Also, visualize the time series and write your observations."
   ]
  },
  {
   "cell_type": "code",
   "execution_count": null,
   "metadata": {
    "id": "RRYAByWs2sRd"
   },
   "outputs": [],
   "source": [
    "#Code here"
   ]
  },
  {
   "cell_type": "markdown",
   "metadata": {
    "id": "obBvUOML2h4Y"
   },
   "source": [
    "**Observations & Insights: _____**"
   ]
  },
  {
   "cell_type": "markdown",
   "metadata": {
    "id": "yFyz2o8nZpRq"
   },
   "source": [
    "###**ARMA MODEL**\n",
    "\n",
    "**We will be using the above AR lag(P) & MA lag(Q) as a paramter** and d=0 in ARIMA so that it will work as an ARMA model."
   ]
  },
  {
   "cell_type": "markdown",
   "metadata": {
    "id": "6iQFk_Sp3eJk"
   },
   "source": [
    "Fit and predict the shifted series with the ARMA Model and calculate the RMSE. Also, visualize the time series and write your observations."
   ]
  },
  {
   "cell_type": "code",
   "execution_count": null,
   "metadata": {
    "id": "YRI8fBNp3ySp"
   },
   "outputs": [],
   "source": [
    "#Code here"
   ]
  },
  {
   "cell_type": "markdown",
   "metadata": {
    "id": "XgUb1Bu-3126"
   },
   "source": [
    "**Observations & Insights: _____**"
   ]
  },
  {
   "cell_type": "markdown",
   "metadata": {
    "id": "sfEpC1JO4EF6"
   },
   "source": [
    "**Check the AIC value of the model**"
   ]
  },
  {
   "cell_type": "code",
   "execution_count": null,
   "metadata": {
    "id": "MgFFvTHV4Kfi"
   },
   "outputs": [],
   "source": [
    "#Code here"
   ]
  },
  {
   "cell_type": "markdown",
   "metadata": {
    "id": "9hY6TyAS7Pkj"
   },
   "source": [
    "###**ARIMA MODEL**"
   ]
  },
  {
   "cell_type": "markdown",
   "metadata": {
    "id": "EE2roq1G7JE-"
   },
   "source": [
    "**Fit and predict the shifted series with the ARIMA Model and calculate the RMSE. Also, visualize the time series and write your observations.**"
   ]
  },
  {
   "cell_type": "code",
   "execution_count": null,
   "metadata": {
    "id": "cNrJEOj631dx"
   },
   "outputs": [],
   "source": [
    "#Code here"
   ]
  },
  {
   "cell_type": "markdown",
   "metadata": {
    "id": "Hc2Rp2kRBEEZ"
   },
   "source": [
    "**Check the AIC value of the model**"
   ]
  },
  {
   "cell_type": "code",
   "execution_count": null,
   "metadata": {
    "id": "lNy6tR1xBAqB"
   },
   "outputs": [],
   "source": [
    "# Printing the fitted values from arima"
   ]
  },
  {
   "cell_type": "markdown",
   "metadata": {
    "id": "qIhA2bboDxiD"
   },
   "source": [
    "###**Inverse Transformation**"
   ]
  },
  {
   "cell_type": "markdown",
   "metadata": {
    "id": "nPWdZT6cD_g2"
   },
   "source": [
    "**Use the correct inverse transformation depending on the model chosen to get back the original values.**\n",
    "\n"
   ]
  },
  {
   "cell_type": "markdown",
   "metadata": {
    "id": "jiWpP2oAFFyI"
   },
   "source": [
    "**Apply an inverse transformation on the predictions of the chosen model**"
   ]
  },
  {
   "cell_type": "code",
   "execution_count": null,
   "metadata": {
    "id": "WPuxuXCNFyfF"
   },
   "outputs": [],
   "source": [
    "#Add the code blocks based on the requirements"
   ]
  },
  {
   "cell_type": "markdown",
   "metadata": {
    "id": "5Ta42tZUF0BL"
   },
   "source": [
    "**Plot the original vs predicted series**"
   ]
  },
  {
   "cell_type": "code",
   "execution_count": null,
   "metadata": {
    "id": "_KeVCiA6GGfJ"
   },
   "outputs": [],
   "source": [
    "#Code here"
   ]
  },
  {
   "cell_type": "markdown",
   "metadata": {
    "id": "P2vbDPIqGIIy"
   },
   "source": [
    "**Observations & Insights: _____**"
   ]
  },
  {
   "cell_type": "markdown",
   "metadata": {
    "id": "NeOlfz-7GR4F"
   },
   "source": [
    "###**Forecast the values for next 24 months and compare it with test data**"
   ]
  },
  {
   "cell_type": "code",
   "execution_count": null,
   "metadata": {
    "id": "kpUdqIZwGsf4"
   },
   "outputs": [],
   "source": [
    "#Add the code blocks based on the requirements"
   ]
  },
  {
   "cell_type": "markdown",
   "metadata": {
    "id": "sOBUS6VTi7Ah"
   },
   "source": [
    "###**Check the RMSE on the original train and test data and write your conclusion from the above analysis.**"
   ]
  },
  {
   "cell_type": "code",
   "execution_count": null,
   "metadata": {
    "id": "xqZSSLo4izl6"
   },
   "outputs": [],
   "source": []
  },
  {
   "cell_type": "markdown",
   "metadata": {
    "id": "xJQp6IG1ilay"
   },
   "source": [
    "####**Think about it:**\n",
    "- Can we use other than RMSE measurement to check the performance of the model?"
   ]
  },
  {
   "cell_type": "markdown",
   "metadata": {
    "id": "6plS_7NNbwyr"
   },
   "source": [
    "####**Think about it:**\n",
    "\n",
    " Can we use other forecasting methods such as SARIMA to improve our model performance?\n",
    "\n",
    "- [A Gentle Introduction to SARIMA for Time Series Forecasting in Python](https://machinelearningmastery.com/sarima-for-time-series-forecasting-in-python/)\n",
    "- [Forecasting with Seasonal ARIMA in Python](https://www.datasciencecentral.com/profiles/blogs/tutorial-forecasting-with-seasonal-arima)"
   ]
  },
  {
   "cell_type": "markdown",
   "metadata": {
    "id": "frIDzCLQUvll"
   },
   "source": [
    "## **Proposed Approach**\n",
    "\n",
    "####**Refined insights**:\n",
    "- What are the most meaningful insights from the data relevant to the problem?\n",
    "\n",
    "####**Comparison of various techniques and their relative performance**:\n",
    "- How do different techniques perform? Which one is performing relatively better? Is there scope to improve the performance further?\n",
    "\n",
    "####**Proposal for the final solution design**:\n",
    "- What model do you propose to be adopted? Why is this the best solution to adopt?"
   ]
  }
 ],
 "metadata": {
  "colab": {
   "collapsed_sections": [
    "_Axk38bXXNcS",
    "9hY6TyAS7Pkj",
    "qIhA2bboDxiD"
   ],
   "name": "Reference_Notebook_Milestone_2_Time_Series.ipynb",
   "provenance": []
  },
  "kernelspec": {
   "display_name": "Python 3 (ipykernel)",
   "language": "python",
   "name": "python3"
  },
  "language_info": {
   "codemirror_mode": {
    "name": "ipython",
    "version": 3
   },
   "file_extension": ".py",
   "mimetype": "text/x-python",
   "name": "python",
   "nbconvert_exporter": "python",
   "pygments_lexer": "ipython3",
   "version": "3.8.8"
  }
 },
 "nbformat": 4,
 "nbformat_minor": 1
}
