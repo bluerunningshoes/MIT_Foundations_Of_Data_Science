{
  "nbformat": 4,
  "nbformat_minor": 5,
  "metadata": {
    "kernelspec": {
      "display_name": "Python 3",
      "language": "python",
      "name": "python3"
    },
    "language_info": {
      "codemirror_mode": {
        "name": "ipython",
        "version": 3
      },
      "file_extension": ".py",
      "mimetype": "text/x-python",
      "name": "python",
      "nbconvert_exporter": "python",
      "pygments_lexer": "ipython3",
      "version": "3.8.3"
    },
    "colab": {
      "name": "GNN_movie_lens.ipynb",
      "provenance": [],
      "collapsed_sections": []
    }
  },
  "cells": [
    {
      "cell_type": "markdown",
      "source": [
        "# **Graph Neural Networks Case Study**\n",
        "\n",
        "## Context\n",
        "Online streaming platforms like Netflix have plenty of movies in their repositories and if we can build a recommendation system to recommend relevant movies to users based on their historical interactions, this would improve customer satisfaction and hence improve revenue. The techniques that we will learn here will not only be limited to movies, it can be implemented through a Graph Neural Networks for other problems as well.\n",
        "\n",
        "## Objective\n",
        "\n",
        "In this case study, we will be building a graph neural network (GNN) to suggest similar movies based on what movies a user has watched.\n",
        "\n",
        "## Dataset\n",
        "\n",
        "The ratings dataset contains the following attributes:\n",
        "- userId\n",
        "- movieId\n",
        "- rating\n",
        "- timestamp\n",
        "\n",
        "We will also use the movies dataset to get the title of the movies. It contains the following attributes:\n",
        "\n",
        "- movieId\n",
        "- title\n",
        "- genres"
      ],
      "metadata": {
        "id": "7-oJOCkGqXEU"
      },
      "id": "7-oJOCkGqXEU"
    },
    {
      "cell_type": "code",
      "metadata": {
        "id": "ylb2uH7bnxxY"
      },
      "source": [
        "import os\n",
        "from collections import defaultdict\n",
        "import math\n",
        "import networkx as nx\n",
        "import random\n",
        "from tqdm import tqdm\n",
        "from zipfile import ZipFile\n",
        "from urllib.request import urlretrieve\n",
        "import numpy as np\n",
        "import pandas as pd\n",
        "import tensorflow as tf\n",
        "from tensorflow import keras\n",
        "from tensorflow.keras import layers\n",
        "import matplotlib.pyplot as plt"
      ],
      "id": "ylb2uH7bnxxY",
      "execution_count": 37,
      "outputs": []
    },
    {
      "cell_type": "code",
      "metadata": {
        "id": "hkKAfivDnxxc"
      },
      "source": [
        "urlretrieve(\n",
        "    \"http://files.grouplens.org/datasets/movielens/ml-latest-small.zip\", \"movielens.zip\"\n",
        ")\n",
        "ZipFile(\"movielens.zip\", \"r\").extractall()"
      ],
      "id": "hkKAfivDnxxc",
      "execution_count": 38,
      "outputs": []
    },
    {
      "cell_type": "markdown",
      "source": [
        "**Converting our Datasets into more readable format**"
      ],
      "metadata": {
        "id": "saWMXgf24Din"
      },
      "id": "saWMXgf24Din"
    },
    {
      "cell_type": "code",
      "metadata": {
        "colab": {
          "base_uri": "https://localhost:8080/"
        },
        "id": "aLgAmRbfnxxc",
        "outputId": "58b5c5e1-4120-4703-a8b1-b2c6b0a1728f"
      },
      "source": [
        "# Load movies to a DataFrame.\n",
        "movies = pd.read_csv(\"ml-latest-small/movies.csv\")\n",
        "# Create a `movieId` string.\n",
        "movies[\"movieId\"] = movies[\"movieId\"].apply(lambda x: f\"movie_{x}\")\n",
        "\n",
        "# Load ratings to a DataFrame.\n",
        "ratings = pd.read_csv(\"ml-latest-small/ratings.csv\") \n",
        "# Convert the `ratings` to floating point\n",
        "ratings[\"rating\"] = ratings[\"rating\"].apply(lambda x: float(x))\n",
        "# Create the `movie_id` string.\n",
        "ratings[\"movieId\"] = ratings[\"movieId\"].apply(lambda x: f\"movie_{x}\")\n",
        "\n",
        "print(\"Movies data shape:\", movies.shape)\n",
        "print(\"Ratings data shape:\", ratings.shape)"
      ],
      "id": "aLgAmRbfnxxc",
      "execution_count": 39,
      "outputs": [
        {
          "output_type": "stream",
          "name": "stdout",
          "text": [
            "Movies data shape: (9742, 3)\n",
            "Ratings data shape: (100836, 4)\n"
          ]
        }
      ]
    },
    {
      "cell_type": "code",
      "metadata": {
        "id": "p-IE1N3Znxxd"
      },
      "source": [
        "def get_movie_title_by_id(movieId):\n",
        "    return list(movies[movies.movieId == movieId].title)[0] #This function gives us the name of the movie from the movie id\n",
        "\n",
        "\n",
        "def get_movie_id_by_title(title):\n",
        "    return list(movies[movies.title == title].movieId)[0]# This function gives us the id of the movie from the name of the movie"
      ],
      "id": "p-IE1N3Znxxd",
      "execution_count": 40,
      "outputs": []
    },
    {
      "cell_type": "code",
      "metadata": {
        "colab": {
          "base_uri": "https://localhost:8080/",
          "height": 206
        },
        "id": "4Lvaa3oRnxxe",
        "outputId": "1193ea3a-5b59-4994-f821-cce1cca951b0"
      },
      "source": [
        "ratings.head() # Let's look at our data sets to understand our data better"
      ],
      "id": "4Lvaa3oRnxxe",
      "execution_count": 41,
      "outputs": [
        {
          "output_type": "execute_result",
          "data": {
            "text/html": [
              "<div>\n",
              "<style scoped>\n",
              "    .dataframe tbody tr th:only-of-type {\n",
              "        vertical-align: middle;\n",
              "    }\n",
              "\n",
              "    .dataframe tbody tr th {\n",
              "        vertical-align: top;\n",
              "    }\n",
              "\n",
              "    .dataframe thead th {\n",
              "        text-align: right;\n",
              "    }\n",
              "</style>\n",
              "<table border=\"1\" class=\"dataframe\">\n",
              "  <thead>\n",
              "    <tr style=\"text-align: right;\">\n",
              "      <th></th>\n",
              "      <th>userId</th>\n",
              "      <th>movieId</th>\n",
              "      <th>rating</th>\n",
              "      <th>timestamp</th>\n",
              "    </tr>\n",
              "  </thead>\n",
              "  <tbody>\n",
              "    <tr>\n",
              "      <th>0</th>\n",
              "      <td>1</td>\n",
              "      <td>movie_1</td>\n",
              "      <td>4.0</td>\n",
              "      <td>964982703</td>\n",
              "    </tr>\n",
              "    <tr>\n",
              "      <th>1</th>\n",
              "      <td>1</td>\n",
              "      <td>movie_3</td>\n",
              "      <td>4.0</td>\n",
              "      <td>964981247</td>\n",
              "    </tr>\n",
              "    <tr>\n",
              "      <th>2</th>\n",
              "      <td>1</td>\n",
              "      <td>movie_6</td>\n",
              "      <td>4.0</td>\n",
              "      <td>964982224</td>\n",
              "    </tr>\n",
              "    <tr>\n",
              "      <th>3</th>\n",
              "      <td>1</td>\n",
              "      <td>movie_47</td>\n",
              "      <td>5.0</td>\n",
              "      <td>964983815</td>\n",
              "    </tr>\n",
              "    <tr>\n",
              "      <th>4</th>\n",
              "      <td>1</td>\n",
              "      <td>movie_50</td>\n",
              "      <td>5.0</td>\n",
              "      <td>964982931</td>\n",
              "    </tr>\n",
              "  </tbody>\n",
              "</table>\n",
              "</div>"
            ],
            "text/plain": [
              "   userId   movieId  rating  timestamp\n",
              "0       1   movie_1     4.0  964982703\n",
              "1       1   movie_3     4.0  964981247\n",
              "2       1   movie_6     4.0  964982224\n",
              "3       1  movie_47     5.0  964983815\n",
              "4       1  movie_50     5.0  964982931"
            ]
          },
          "metadata": {},
          "execution_count": 41
        }
      ]
    },
    {
      "cell_type": "code",
      "metadata": {
        "colab": {
          "base_uri": "https://localhost:8080/",
          "height": 206
        },
        "id": "V_1s_Htrnxxe",
        "outputId": "7b3f93c2-6f70-4115-b5aa-c88ab92c82d9"
      },
      "source": [
        "movies.head()"
      ],
      "id": "V_1s_Htrnxxe",
      "execution_count": 42,
      "outputs": [
        {
          "output_type": "execute_result",
          "data": {
            "text/html": [
              "<div>\n",
              "<style scoped>\n",
              "    .dataframe tbody tr th:only-of-type {\n",
              "        vertical-align: middle;\n",
              "    }\n",
              "\n",
              "    .dataframe tbody tr th {\n",
              "        vertical-align: top;\n",
              "    }\n",
              "\n",
              "    .dataframe thead th {\n",
              "        text-align: right;\n",
              "    }\n",
              "</style>\n",
              "<table border=\"1\" class=\"dataframe\">\n",
              "  <thead>\n",
              "    <tr style=\"text-align: right;\">\n",
              "      <th></th>\n",
              "      <th>movieId</th>\n",
              "      <th>title</th>\n",
              "      <th>genres</th>\n",
              "    </tr>\n",
              "  </thead>\n",
              "  <tbody>\n",
              "    <tr>\n",
              "      <th>0</th>\n",
              "      <td>movie_1</td>\n",
              "      <td>Toy Story (1995)</td>\n",
              "      <td>Adventure|Animation|Children|Comedy|Fantasy</td>\n",
              "    </tr>\n",
              "    <tr>\n",
              "      <th>1</th>\n",
              "      <td>movie_2</td>\n",
              "      <td>Jumanji (1995)</td>\n",
              "      <td>Adventure|Children|Fantasy</td>\n",
              "    </tr>\n",
              "    <tr>\n",
              "      <th>2</th>\n",
              "      <td>movie_3</td>\n",
              "      <td>Grumpier Old Men (1995)</td>\n",
              "      <td>Comedy|Romance</td>\n",
              "    </tr>\n",
              "    <tr>\n",
              "      <th>3</th>\n",
              "      <td>movie_4</td>\n",
              "      <td>Waiting to Exhale (1995)</td>\n",
              "      <td>Comedy|Drama|Romance</td>\n",
              "    </tr>\n",
              "    <tr>\n",
              "      <th>4</th>\n",
              "      <td>movie_5</td>\n",
              "      <td>Father of the Bride Part II (1995)</td>\n",
              "      <td>Comedy</td>\n",
              "    </tr>\n",
              "  </tbody>\n",
              "</table>\n",
              "</div>"
            ],
            "text/plain": [
              "   movieId  ...                                       genres\n",
              "0  movie_1  ...  Adventure|Animation|Children|Comedy|Fantasy\n",
              "1  movie_2  ...                   Adventure|Children|Fantasy\n",
              "2  movie_3  ...                               Comedy|Romance\n",
              "3  movie_4  ...                         Comedy|Drama|Romance\n",
              "4  movie_5  ...                                       Comedy\n",
              "\n",
              "[5 rows x 3 columns]"
            ]
          },
          "metadata": {},
          "execution_count": 42
        }
      ]
    },
    {
      "cell_type": "markdown",
      "source": [
        "**Calculating Pairwise and Item Frequency**\n",
        "\n",
        "Let's calculate item_frequency for each movies and pair_frequency for every possible pair of movies. We need these frequencies to build our Graph. The purpose of these frequencies are written below\n"
      ],
      "metadata": {
        "id": "2BA5luOH9lR9"
      },
      "id": "2BA5luOH9lR9"
    },
    {
      "cell_type": "code",
      "metadata": {
        "colab": {
          "base_uri": "https://localhost:8080/"
        },
        "id": "MUfIqnXBnxxf",
        "outputId": "c2681561-10ff-4b1e-8b1c-8e60f3d44e8c"
      },
      "source": [
        "min_rating = 5\n",
        "\n",
        "item_frequency = defaultdict(int)#dictionary to indicate how many times each movie has been watched\n",
        "pair_frequency = defaultdict(int)#dictionary to indicate how many times a particular pair of movies has been watched.\n",
        "\n",
        "# Filter instances where rating is greater than or equal to min_rating.\n",
        "rated_movies = ratings[ratings.rating >= min_rating]\n",
        "# Group instances by user. Here each group contains movies watched by a particular user.\n",
        "movies_grouped_by_users = list(rated_movies.groupby(\"userId\"))\n",
        "for group in tqdm(\n",
        "    movies_grouped_by_users,\n",
        "    position=0,\n",
        "    leave=True,\n",
        "    desc=\"Compute movie rating frequencies\",\n",
        "):#iterating over all the groups\n",
        "    # Get a list of movies rated by the user.\n",
        "    current_movies = list(group[1][\"movieId\"])\n",
        "\n",
        "    for i in range(len(current_movies)):\n",
        "        item_frequency[current_movies[i]] += 1 #increasing count of item frequency for a particular movie on encountering it in a group\n",
        "        for j in range(i + 1, len(current_movies)):\n",
        "            x = min(current_movies[i], current_movies[j])\n",
        "            y = max(current_movies[i], current_movies[j])\n",
        "            pair_frequency[(x, y)] += 1 #increasing count of pair frequency for a particular pair of movies on coming across it."
      ],
      "id": "MUfIqnXBnxxf",
      "execution_count": 43,
      "outputs": [
        {
          "output_type": "stream",
          "name": "stderr",
          "text": [
            "Compute movie rating frequencies: 100%|██████████| 573/573 [00:00<00:00, 739.72it/s]\n"
          ]
        }
      ]
    },
    {
      "cell_type": "markdown",
      "source": [
        "In the cell above, we are creating two dictionaries, 1)The first dictionary i.e. 'item_frequency' is the item frequency where we calculate the number of times each movie has been watched, assuming every user has watched any particular movie exactly once. 2)The second dictionary i.e. 'pair_frequency' is the pair-wise frequency, where we see how many users have watched both of these movies. A greater value indicates higher probability of one of these movies being suggested when any new user has watched the other movie in the pair. i.e if the pair-wise frequency of movie A and movie B is high, and a new user happens to watch movie A, they are likely to be suggested movie B."
      ],
      "metadata": {
        "id": "e_avGuIK-Hsj"
      },
      "id": "e_avGuIK-Hsj"
    },
    {
      "cell_type": "markdown",
      "source": [
        "**Creating our Graph**\n",
        "\n",
        "We are trying to model what movies are frequently watched together based on all of the user data. To think of this more intuitively, the higher the weight of an edge between two movies A and B, the higher is the probability of movie B being suggested after you have watched movie A and vice versa."
      ],
      "metadata": {
        "id": "HC9_7xvmNl2O"
      },
      "id": "HC9_7xvmNl2O"
    },
    {
      "cell_type": "code",
      "metadata": {
        "colab": {
          "base_uri": "https://localhost:8080/"
        },
        "id": "vPbIdGRTnxxg",
        "outputId": "53fcb9c3-6a60-420d-da28-581386e19a4a"
      },
      "source": [
        "min_weight = 10\n",
        "D = math.log(sum(item_frequency.values()))\n",
        "\n",
        "# Create the undirected graph with the movies as nodes\n",
        "movies_graph = nx.Graph()\n",
        "# Add weighted edges between movies.\n",
        "# This automatically adds the movie nodes to the graph.\n",
        "for pair in tqdm(\n",
        "    pair_frequency, position=0, leave=True, desc=\"Creating the movie graph\"\n",
        "):#iterating over every pair of movies\n",
        "    x, y = pair # unpacking the tuple called 'pair' to receive the two movies\n",
        "\n",
        "    \n",
        "    xy_frequency = pair_frequency[pair] #pair-wise frequency of two particular movies\n",
        "    x_frequency = item_frequency[x] #item frequency for first movie in the pair\n",
        "    y_frequency = item_frequency[y] #item frequency for second movie in the pair\n",
        "\n",
        "    # calculating pmi index as a measure of pairing strength\n",
        "    pmi = math.log(xy_frequency) - math.log(x_frequency) - math.log(y_frequency) + D\n",
        "    weight = pmi * xy_frequency\n",
        "    # Only include edges with weight >= min_weight.\n",
        "    if weight >= min_weight:\n",
        "        movies_graph.add_edge(x, y, weight=weight)#adding the edge to those particular nodes"
      ],
      "id": "vPbIdGRTnxxg",
      "execution_count": 44,
      "outputs": [
        {
          "output_type": "stream",
          "name": "stderr",
          "text": [
            "Creating the movie graph: 100%|██████████| 298586/298586 [00:00<00:00, 404929.82it/s]\n"
          ]
        }
      ]
    },
    {
      "cell_type": "markdown",
      "source": [
        " \n",
        "To calculate the pairing strength between two movies, we are using pmi index. We could use some other measures and that is completely the programmer's choice.\n",
        "\n",
        "So in our graph, our nodes are our movies and our edges are drawn based on the product of the pmi index and pair frequency for the two movies we are calculating the edge weight for. If this value exceeds our minimum weight (which is a hyperparameter defined by us, in this case, equal to 10) we draw an edge with the calculated weight.\n"
      ],
      "metadata": {
        "id": "pvNZ2cC9PEqj"
      },
      "id": "pvNZ2cC9PEqj"
    },
    {
      "cell_type": "code",
      "metadata": {
        "colab": {
          "base_uri": "https://localhost:8080/"
        },
        "id": "-RVP-s_Snxxh",
        "outputId": "6d60324b-032f-4923-a194-236d53a02d0c"
      },
      "source": [
        "print(\"Total number of graph nodes:\", movies_graph.number_of_nodes())\n",
        "print(\"Total number of graph edges:\", movies_graph.number_of_edges())"
      ],
      "id": "-RVP-s_Snxxh",
      "execution_count": null,
      "outputs": [
        {
          "output_type": "stream",
          "name": "stdout",
          "text": [
            "Total number of graph nodes: 1405\n",
            "Total number of graph edges: 40043\n"
          ]
        }
      ]
    },
    {
      "cell_type": "markdown",
      "source": [
        "**Calculating Average Degree**\n",
        "\n",
        "Average degree often gives us an idea about the inter-connectivity of the nodes. Let's see how we can interpret the result."
      ],
      "metadata": {
        "id": "yrKGem28RoFU"
      },
      "id": "yrKGem28RoFU"
    },
    {
      "cell_type": "code",
      "metadata": {
        "colab": {
          "base_uri": "https://localhost:8080/"
        },
        "id": "ma6Bl0Iknxxi",
        "outputId": "9e7d542f-4a1f-4475-9135-88f2e5e5c457"
      },
      "source": [
        "degrees = []\n",
        "for node in movies_graph.nodes:\n",
        "    degrees.append(movies_graph.degree[node])\n",
        "\n",
        "print(\"Average node degree:\", round(sum(degrees) / len(degrees), 2))"
      ],
      "id": "ma6Bl0Iknxxi",
      "execution_count": null,
      "outputs": [
        {
          "output_type": "stream",
          "name": "stdout",
          "text": [
            "Average node degree: 57.0\n"
          ]
        }
      ]
    },
    {
      "cell_type": "markdown",
      "source": [
        "This average degree comes out to be 57 when we are taking minimum weight to be 10. This gives us an idea that on an average every node is connected to 57 other nodes. To look at it intuitively, this gives us the assurance that every movie would have suggestions for what to watch next."
      ],
      "metadata": {
        "id": "PCQdLE03R3SJ"
      },
      "id": "PCQdLE03R3SJ"
    },
    {
      "cell_type": "markdown",
      "source": [
        "**Creating Vocabulary lookup for Embedding**"
      ],
      "metadata": {
        "id": "02S6YWctST4l"
      },
      "id": "02S6YWctST4l"
    },
    {
      "cell_type": "code",
      "metadata": {
        "id": "WZGhWh7ynxxi"
      },
      "source": [
        "vocabulary = [\"NA\"] + list(movies_graph.nodes)\n",
        "vocabulary_lookup = {token: idx for idx, token in enumerate(vocabulary)}"
      ],
      "id": "WZGhWh7ynxxi",
      "execution_count": null,
      "outputs": []
    },
    {
      "cell_type": "markdown",
      "source": [
        "**Traversing through our Graph: To pick next node among all neighbors**\n",
        "\n",
        "The function 'next_step()' does the simple operation of travelling to the next node given you’re currently on a node i.e when you have watched a movie, what are the next movies you could consider."
      ],
      "metadata": {
        "id": "8Gbbu5cfTF08"
      },
      "id": "8Gbbu5cfTF08"
    },
    {
      "cell_type": "code",
      "metadata": {
        "id": "w4yi8qxYnxxj"
      },
      "source": [
        "def next_step(graph, previous, current, p, q):\n",
        "    neighbors = list(graph.neighbors(current))\n",
        "\n",
        "    weights = []\n",
        "    # Adjust the weights of the edges to the neighbors with the help of p and q so that we can control or give a preferrence to which category of nodes we would want to visit next\n",
        "    for neighbor in neighbors: #looping through all neighbors\n",
        "        if neighbor == previous:\n",
        "            # Control the probability to return to the previous node.\n",
        "            weights.append(graph[current][neighbor][\"weight\"] / p)\n",
        "        elif graph.has_edge(neighbor, previous):\n",
        "            # The probability of visiting a local node.\n",
        "            weights.append(graph[current][neighbor][\"weight\"])\n",
        "        else:\n",
        "            # Control the probability to move forward.\n",
        "            weights.append(graph[current][neighbor][\"weight\"] / q)\n",
        "\n",
        "    # Compute the probabilities of visiting each neighbor.\n",
        "    weight_sum = sum(weights)\n",
        "    probabilities = [weight / weight_sum for weight in weights]\n",
        "    # Probabilistically select a neighbor to visit.\n",
        "    next = np.random.choice(neighbors, size=1, p=probabilities)[0]\n",
        "    return next"
      ],
      "id": "w4yi8qxYnxxj",
      "execution_count": null,
      "outputs": []
    },
    {
      "cell_type": "markdown",
      "source": [
        "Since each node in the graph is likely to have more than one neighbor (judging from the average degree which was 57), we have to take a probabilistic approach. In other words, since we have more than one option for the next step, we assign probabilities to each edge arising from our current node/movie and then we make our random choice based on those probabilities. \n",
        "\n",
        "Now here we have two hyperparameters, p, and q, through which we can modify the probabilities a little. The value of q should lie between 1 and p, This is because the probability of visiting a node that has an edge with the current node as well as an edge with a previous node should be the greatest. The probability of a node that has an edge with the current node but not with the previous node should be lesser than the previous case. The probability of re-visiting this node should be the least. Therefore 1>q>p should be kept in mind while playing with these hyperparameters."
      ],
      "metadata": {
        "id": "l8Q_A0TcToCU"
      },
      "id": "l8Q_A0TcToCU"
    },
    {
      "cell_type": "markdown",
      "source": [
        "**Creating Walks across our Graph**\n",
        "\n",
        "We want to generate sequences of movies that are connected with each other through edges inside the graph. These sequences can be later used to generate training data for training our Neural Network."
      ],
      "metadata": {
        "id": "LlPZ8EKHVcOD"
      },
      "id": "LlPZ8EKHVcOD"
    },
    {
      "cell_type": "code",
      "metadata": {
        "id": "B2P6wPfPnxxj"
      },
      "source": [
        "def random_walk(graph, num_walks, num_steps, p, q):\n",
        "    walks = []\n",
        "    nodes = list(graph.nodes())\n",
        "    # Perform multiple iterations of the random walk.\n",
        "    for walk_iteration in range(num_walks):\n",
        "        random.shuffle(nodes)\n",
        "\n",
        "        for node in tqdm(\n",
        "            nodes,\n",
        "            position=0,\n",
        "            leave=True,\n",
        "            desc=f\"Random walks iteration {walk_iteration + 1} of {num_walks}\",\n",
        "        ):\n",
        "            # Start the walk with a random node from the graph.\n",
        "            walk = [node]\n",
        "            # Randomly walk for num_steps by calling the next_step function we created above.\n",
        "            while len(walk) < num_steps:\n",
        "                current = walk[-1] #current node is the last element of the array 'walk'.\n",
        "                previous = walk[-2] if len(walk) > 1 else None #if the length of our array 'walk' is more than one, then the previous node is the second last element of the array 'walk'. \n",
        "                \n",
        "                next = next_step(graph, previous, current, p, q) # Compute the next node to visit.\n",
        "                walk.append(next) #append the next node obtained to the array 'walk'.\n",
        "            # Replace node ids (movie ids) in the walk with token ids by looking at the vocabulary lookup.\n",
        "            walk = [vocabulary_lookup[token] for token in walk]\n",
        "            # Add the walk to the generated sequence.\n",
        "            walks.append(walk)\n",
        "\n",
        "    return walks"
      ],
      "id": "B2P6wPfPnxxj",
      "execution_count": null,
      "outputs": []
    },
    {
      "cell_type": "markdown",
      "source": [
        "This function has been created to create random walks with each walk having the number of movies defined by num_steps argument. After we get each walk , we append them to an array which we will use for generating our data for training the neural network through the generate_examples( ) function."
      ],
      "metadata": {
        "id": "goIiNVIWWKV2"
      },
      "id": "goIiNVIWWKV2"
    },
    {
      "cell_type": "markdown",
      "source": [
        "**Setting Hyperparameters for traversing through the Graph**\n",
        "\n"
      ],
      "metadata": {
        "id": "hjFFxv7kgl_v"
      },
      "id": "hjFFxv7kgl_v"
    },
    {
      "cell_type": "code",
      "metadata": {
        "colab": {
          "base_uri": "https://localhost:8080/"
        },
        "id": "s6lZWTIgnxxk",
        "outputId": "153a9ce1-e21b-40d3-f118-275e855d3436"
      },
      "source": [
        "# Random walk return parameter.\n",
        "p = 2\n",
        "# Random walk in-out parameter.\n",
        "q = 1.5\n",
        "# Number of iterations of random walks.\n",
        "num_walks = 5\n",
        "# Number of steps of each random walk.\n",
        "num_steps = 10\n",
        "walks = random_walk(movies_graph, num_walks, num_steps, p, q)\n",
        "\n",
        "print(\"Number of walks generated:\", len(walks))"
      ],
      "id": "s6lZWTIgnxxk",
      "execution_count": null,
      "outputs": [
        {
          "output_type": "stream",
          "name": "stderr",
          "text": [
            "Random walks iteration 1 of 5: 100%|██████████| 1405/1405 [00:09<00:00, 155.03it/s]\n",
            "Random walks iteration 2 of 5: 100%|██████████| 1405/1405 [00:09<00:00, 148.88it/s]\n",
            "Random walks iteration 3 of 5: 100%|██████████| 1405/1405 [00:09<00:00, 146.23it/s]\n",
            "Random walks iteration 4 of 5: 100%|██████████| 1405/1405 [00:11<00:00, 125.17it/s]\n",
            "Random walks iteration 5 of 5: 100%|██████████| 1405/1405 [00:08<00:00, 158.45it/s]"
          ]
        },
        {
          "output_type": "stream",
          "name": "stdout",
          "text": [
            "Number of walks generated: 7025\n"
          ]
        },
        {
          "output_type": "stream",
          "name": "stderr",
          "text": [
            "\n"
          ]
        }
      ]
    },
    {
      "cell_type": "markdown",
      "source": [
        "We have set the p to 2, and q should lie between 1 and p. So we have chosen its value as 1.5. We can try out various combinations for these hyperparameters and check their result."
      ],
      "metadata": {
        "id": "TUKqSUSsZ9rZ"
      },
      "id": "TUKqSUSsZ9rZ"
    },
    {
      "cell_type": "markdown",
      "source": [
        "**Generating Pairs of Movies which should have closer Embeddings**\n",
        "\n",
        "In the generate_examples( ) function, we use skipgram function which creates positive and negative samples. To get an intuition about positive ad negative samples, please refer to the walkthrough document."
      ],
      "metadata": {
        "id": "ZMqNznkRhKEO"
      },
      "id": "ZMqNznkRhKEO"
    },
    {
      "cell_type": "code",
      "metadata": {
        "colab": {
          "base_uri": "https://localhost:8080/"
        },
        "id": "eFj8wV86nxxk",
        "outputId": "4d0737f8-5feb-4a6b-bba3-887ee0731b32"
      },
      "source": [
        "def generate_examples(sequences, window_size, num_negative_samples, vocabulary_size):\n",
        "    example_weights = defaultdict(int)\n",
        "    \n",
        "    # Iterate over all sequences (walks).\n",
        "    for sequence in tqdm(\n",
        "        sequences,\n",
        "        position=0,\n",
        "        leave=True,\n",
        "        desc=f\"Generating postive and negative examples\",\n",
        "    ):\n",
        "        # Generate positive and negative skip-gram pairs for a sequence or walk.\n",
        "        pairs, labels = keras.preprocessing.sequence.skipgrams(\n",
        "            sequence,\n",
        "            vocabulary_size=vocabulary_size,\n",
        "            window_size=window_size,\n",
        "            negative_samples=num_negative_samples,\n",
        "        )\n",
        "        for idx in range(len(pairs)): #iterating through all pairs received from the skipgram function.\n",
        "            pair = pairs[idx] #extracting the pair of movies\n",
        "            label = labels[idx] #extracting the labels\n",
        "            target, context = min(pair[0], pair[1]), max(pair[0], pair[1])\n",
        "            if target == context:\n",
        "                continue\n",
        "            if(label==1):  #If a positive sample  is generated we label them 1, otherwise we label them 0  \n",
        "                previous_negative_label=0\n",
        "                previous_negative_entry= (target,context,previous_negative_label)\n",
        "                example_weights[previous_negative_entry] = 0 #making previous entry of negative sample equal to zero because we have a positive sample now\n",
        "                entry = (target, context, label)\n",
        "                example_weights[entry] += 1\n",
        "            if(label==0): #if a negative sample is generated , \n",
        "                querylabel =1\n",
        "                queryentry = (target, context, querylabel) #we check if a positive sample with the same pair of movies exist   \n",
        "                if ( example_weights[queryentry]>0):\n",
        "                    continue #we skip adding this entry to our entry if alrady a positive sample exists.\n",
        "                else:\n",
        "                    entry = (target, context, label)\n",
        "                    example_weights[entry] +=1 #if a positive sample doesn't exist, we add the negative example.\n",
        "\n",
        "    targets, contexts, labels, weights = [], [], [], []\n",
        "    for entry in example_weights:\n",
        "        weight = example_weights[entry]\n",
        "        if(weight>0): \n",
        "            target, context, label = entry #tuple unpacking of the 'entry' tuple\n",
        "            targets.append(target)\n",
        "            contexts.append(context)\n",
        "            labels.append(label)\n",
        "            weights.append(weight)\n",
        "\n",
        "    return np.array(targets), np.array(contexts), np.array(labels), np.array(weights)\n",
        "\n",
        "\n",
        "num_negative_samples = 4\n",
        "targets, contexts, labels, weights = generate_examples(\n",
        "    sequences=walks,\n",
        "    window_size=num_steps,\n",
        "    num_negative_samples=num_negative_samples,\n",
        "    vocabulary_size=len(vocabulary),\n",
        ")"
      ],
      "id": "eFj8wV86nxxk",
      "execution_count": null,
      "outputs": [
        {
          "output_type": "stream",
          "name": "stderr",
          "text": [
            "Generating postive and negative examples: 100%|██████████| 7025/7025 [00:20<00:00, 335.84it/s]\n"
          ]
        }
      ]
    },
    {
      "cell_type": "markdown",
      "source": [
        "The above function generate_examples() calls skipgram function of keras.preprocessing. The skipgram function takes a corpus and generates pairs of words. If both words in the pair are a part of the corpus, we label them 1. Otherwise, we label them 0. Here our corpus is the array of random walks. So skipgram generates pairs of movies. If both of those movies have been present in a particular random walk, they are labeled as 1, otherwise 0."
      ],
      "metadata": {
        "id": "RdL_p-wWiHQJ"
      },
      "id": "RdL_p-wWiHQJ"
    },
    {
      "cell_type": "code",
      "metadata": {
        "colab": {
          "base_uri": "https://localhost:8080/"
        },
        "id": "4P1KFFKUnxxk",
        "outputId": "4f3fb7d7-e8fb-4d49-be0c-07aa412203e0"
      },
      "source": [
        "print(f\"Targets shape: {targets.shape}\")\n",
        "print(f\"Contexts shape: {contexts.shape}\")\n",
        "print(f\"Labels shape: {labels.shape}\")\n",
        "print(f\"Weights shape: {weights.shape}\")"
      ],
      "id": "4P1KFFKUnxxk",
      "execution_count": null,
      "outputs": [
        {
          "output_type": "stream",
          "name": "stdout",
          "text": [
            "Targets shape: (731016,)\n",
            "Contexts shape: (731016,)\n",
            "Labels shape: (731016,)\n",
            "Weights shape: (731016,)\n"
          ]
        }
      ]
    },
    {
      "cell_type": "markdown",
      "source": [
        "**Generating Data in a Classification format for our Neural Network Training**\n",
        "\n",
        "Our data needs to be in a particular format so that it fits our Neural network architecture inputs. Let's do that through these pre-processing activities."
      ],
      "metadata": {
        "id": "Doi8os-5jRv2"
      },
      "id": "Doi8os-5jRv2"
    },
    {
      "cell_type": "code",
      "metadata": {
        "id": "RL_0uL3Xnxxl"
      },
      "source": [
        "batch_size = 1024\n",
        "\n",
        "\n",
        "def create_dataset(targets, contexts, labels, weights, batch_size):\n",
        "    inputs = {\n",
        "        \"target\": targets,\n",
        "        \"context\": contexts,\n",
        "    } #pre-processing the targets, contexts and labels vectors to fit our Neural Network pipeline \n",
        "    dataset = tf.data.Dataset.from_tensor_slices((inputs, labels, weights))\n",
        "    dataset = dataset.shuffle(buffer_size=batch_size * 2) #shuffling the data set to remove any chance of sequential data.\n",
        "    dataset = dataset.batch(batch_size, drop_remainder=True)\n",
        "    dataset = dataset.prefetch(tf.data.AUTOTUNE)\n",
        "    return dataset\n",
        "\n",
        "\n",
        "dataset = create_dataset(\n",
        "    targets=targets,\n",
        "    contexts=contexts,\n",
        "    labels=labels,\n",
        "    weights=weights,\n",
        "    batch_size=batch_size,\n",
        ")"
      ],
      "id": "RL_0uL3Xnxxl",
      "execution_count": null,
      "outputs": []
    },
    {
      "cell_type": "markdown",
      "source": [
        "The output of the generate_example gives us target, context, and label vectors. So from these three vectors we create our own dataset for a classification task, where target and context movies would be our independent variables. And the label would be our dependent variable. And we build a Neural Network in a way so that it takes a look at the target movie and the context movie and it can predict the label value."
      ],
      "metadata": {
        "id": "4aIuLCiGj1Pl"
      },
      "id": "4aIuLCiGj1Pl"
    },
    {
      "cell_type": "markdown",
      "source": [
        "**Hyperparameters for Neural Network Training**"
      ],
      "metadata": {
        "id": "rCmlKoAZlUUt"
      },
      "id": "rCmlKoAZlUUt"
    },
    {
      "cell_type": "code",
      "metadata": {
        "id": "I-y6Q0eanxxl"
      },
      "source": [
        "learning_rate = 0.001\n",
        "embedding_dim = 50\n",
        "num_epochs = 10"
      ],
      "id": "I-y6Q0eanxxl",
      "execution_count": null,
      "outputs": []
    },
    {
      "cell_type": "markdown",
      "source": [
        "**Creating our Model**\n",
        "\n",
        "Let's build a Neural Network Architecture which would take target and context movie as input and try to predict the output label."
      ],
      "metadata": {
        "id": "ne7kaaV0ljBF"
      },
      "id": "ne7kaaV0ljBF"
    },
    {
      "cell_type": "code",
      "metadata": {
        "id": "EDu3hhYQnxxm"
      },
      "source": [
        "def create_model(vocabulary_size, embedding_dim):\n",
        "\n",
        "    inputs = {\n",
        "        \"target\": layers.Input(name=\"target\", shape=(), dtype=\"int32\"),\n",
        "        \"context\": layers.Input(name=\"context\", shape=(), dtype=\"int32\"),\n",
        "    }\n",
        "    # Initialize item embeddings.\n",
        "    embed_item = layers.Embedding(\n",
        "        input_dim=vocabulary_size,\n",
        "        output_dim=embedding_dim,\n",
        "        embeddings_initializer=\"he_normal\",\n",
        "        embeddings_regularizer=keras.regularizers.l2(1e-6),\n",
        "        name=\"item_embeddings\",\n",
        "    )\n",
        "    # Lookup embeddings for target.\n",
        "    target_embeddings = embed_item(inputs[\"target\"])\n",
        "    # Lookup embeddings for context.\n",
        "    context_embeddings = embed_item(inputs[\"context\"])\n",
        "    # Compute dot similarity between target and context embeddings.\n",
        "    logits = layers.Dot(axes=1, normalize=False, name=\"dot_similarity\")(\n",
        "        [target_embeddings, context_embeddings]\n",
        "    )\n",
        "    # Create the model.\n",
        "    model = keras.Model(inputs=inputs, outputs=logits)\n",
        "    return model"
      ],
      "id": "EDu3hhYQnxxm",
      "execution_count": null,
      "outputs": []
    },
    {
      "cell_type": "markdown",
      "source": [
        "This model is fairly simple. There is an Embedding layer that converts the target and context to target embeddings and context embeddings respectively. Then we take the dot product of these two embeddings to get an output on the scale of 0 to 1. This way it tries to train with the training data."
      ],
      "metadata": {
        "id": "KBQUhTuulnd0"
      },
      "id": "KBQUhTuulnd0"
    },
    {
      "cell_type": "code",
      "metadata": {
        "id": "DSQhpEftnxxm"
      },
      "source": [
        "model = create_model(len(vocabulary), embedding_dim)\n",
        "model.compile(\n",
        "    optimizer=keras.optimizers.Adam(learning_rate),\n",
        "    loss=keras.losses.BinaryCrossentropy(from_logits=True),\n",
        ") #setting up the model's optimizers"
      ],
      "id": "DSQhpEftnxxm",
      "execution_count": null,
      "outputs": []
    },
    {
      "cell_type": "code",
      "metadata": {
        "colab": {
          "base_uri": "https://localhost:8080/"
        },
        "id": "YZGjzwDLnxxm",
        "outputId": "06d6bc52-7bae-4874-e3af-55df9811a483"
      },
      "source": [
        "!pip install pydot"
      ],
      "id": "YZGjzwDLnxxm",
      "execution_count": null,
      "outputs": [
        {
          "output_type": "stream",
          "name": "stdout",
          "text": [
            "Requirement already satisfied: pydot in /usr/local/lib/python3.7/dist-packages (1.3.0)\n",
            "Requirement already satisfied: pyparsing>=2.1.4 in /usr/local/lib/python3.7/dist-packages (from pydot) (3.0.6)\n"
          ]
        }
      ]
    },
    {
      "cell_type": "markdown",
      "source": [
        "**Visualizing the Model**\n",
        "\n",
        "Keras comes with an in-built visualization tool. Let's use that and visualize our architecture."
      ],
      "metadata": {
        "id": "de5WCKuKms9l"
      },
      "id": "de5WCKuKms9l"
    },
    {
      "cell_type": "code",
      "metadata": {
        "colab": {
          "base_uri": "https://localhost:8080/",
          "height": 312
        },
        "id": "ZH0AR3Onnxxn",
        "outputId": "b48bce24-1f89-4f4a-a0a1-a4b97c4f3067"
      },
      "source": [
        "keras.utils.plot_model(\n",
        "    model, show_shapes=True, show_dtype=True, show_layer_names=True,\n",
        ")"
      ],
      "id": "ZH0AR3Onnxxn",
      "execution_count": null,
      "outputs": [
        {
          "output_type": "execute_result",
          "data": {
            "image/png": "[encoded data removed]",
            "text/plain": [
              "<IPython.core.display.Image object>"
            ]
          },
          "metadata": {},
          "execution_count": 22
        }
      ]
    },
    {
      "cell_type": "markdown",
      "source": [
        "**Training Phase**"
      ],
      "metadata": {
        "id": "Uiiqut75m3H7"
      },
      "id": "Uiiqut75m3H7"
    },
    {
      "cell_type": "code",
      "metadata": {
        "colab": {
          "base_uri": "https://localhost:8080/"
        },
        "id": "h3h6bwxOnxxn",
        "outputId": "66455bbc-03fa-4848-f893-44819ea47c5d"
      },
      "source": [
        "history = model.fit(dataset, epochs=num_epochs)"
      ],
      "id": "h3h6bwxOnxxn",
      "execution_count": null,
      "outputs": [
        {
          "output_type": "stream",
          "name": "stdout",
          "text": [
            "Epoch 1/10\n",
            "713/713 [==============================] - 5s 7ms/step - loss: 1.2850\n",
            "Epoch 2/10\n",
            "713/713 [==============================] - 5s 7ms/step - loss: 1.2844\n",
            "Epoch 3/10\n",
            "713/713 [==============================] - 5s 7ms/step - loss: 1.2840\n",
            "Epoch 4/10\n",
            "713/713 [==============================] - 5s 7ms/step - loss: 1.2835\n",
            "Epoch 5/10\n",
            "713/713 [==============================] - 5s 7ms/step - loss: 1.2829\n",
            "Epoch 6/10\n",
            "713/713 [==============================] - 11s 16ms/step - loss: 1.2825\n",
            "Epoch 7/10\n",
            "713/713 [==============================] - 8s 11ms/step - loss: 1.2820\n",
            "Epoch 8/10\n",
            "713/713 [==============================] - 10s 14ms/step - loss: 1.2815\n",
            "Epoch 9/10\n",
            "713/713 [==============================] - 7s 10ms/step - loss: 1.2811\n",
            "Epoch 10/10\n",
            "713/713 [==============================] - 5s 8ms/step - loss: 1.2806\n"
          ]
        }
      ]
    },
    {
      "cell_type": "code",
      "metadata": {
        "colab": {
          "base_uri": "https://localhost:8080/",
          "height": 279
        },
        "id": "eumd6Bv7nxxn",
        "outputId": "3ea325ad-d0ea-4f75-ba61-42b7724c92c9"
      },
      "source": [
        "plt.plot(history.history[\"loss\"])\n",
        "plt.ylabel(\"loss\")\n",
        "plt.xlabel(\"epoch\")\n",
        "plt.show()"
      ],
      "id": "eumd6Bv7nxxn",
      "execution_count": null,
      "outputs": [
        {
          "output_type": "display_data",
          "data": {
            "image/png": "[encoded data removed]",
            "text/plain": [
              "<Figure size 432x288 with 1 Axes>"
            ]
          },
          "metadata": {
            "needs_background": "light"
          }
        }
      ]
    },
    {
      "cell_type": "markdown",
      "source": [
        "**Extracting the Embedding Vector**"
      ],
      "metadata": {
        "id": "paec_0SOnEst"
      },
      "id": "paec_0SOnEst"
    },
    {
      "cell_type": "code",
      "metadata": {
        "colab": {
          "base_uri": "https://localhost:8080/"
        },
        "id": "l1UUp_PZnxxo",
        "outputId": "e60befde-0395-4d43-8165-41f42dedb4c9"
      },
      "source": [
        "movie_embeddings = model.get_layer(\"item_embeddings\").get_weights()[0] #extracting the layer weight by layer name\n",
        "print(\"Embeddings shape:\", movie_embeddings.shape)"
      ],
      "id": "l1UUp_PZnxxo",
      "execution_count": null,
      "outputs": [
        {
          "output_type": "stream",
          "name": "stdout",
          "text": [
            "Embeddings shape: (1406, 50)\n"
          ]
        }
      ]
    },
    {
      "cell_type": "markdown",
      "source": [
        "We had created a self supervised task and now we take out the embedding vectors so that we can directly check for similarity among any two movies after they are converted to their particular movie_id by the get_movie_id_by_title()"
      ],
      "metadata": {
        "id": "L9xCSG7cnQYr"
      },
      "id": "L9xCSG7cnQYr"
    },
    {
      "cell_type": "code",
      "metadata": {
        "id": "cRyUwj07nxxo"
      },
      "source": [
        "query_movies = [\n",
        "    \"Matrix, The (1999)\",\n",
        "    \"Star Wars: Episode IV - A New Hope (1977)\",\n",
        "    \"Lion King, The (1994)\",\n",
        "    \"Terminator 2: Judgment Day (1991)\",\n",
        "    \"Godfather, The (1972)\",\n",
        "]"
      ],
      "id": "cRyUwj07nxxo",
      "execution_count": null,
      "outputs": []
    },
    {
      "cell_type": "markdown",
      "source": [
        "**Converting Query movies to Query Embeddings**"
      ],
      "metadata": {
        "id": "HuxMzgzupQy0"
      },
      "id": "HuxMzgzupQy0"
    },
    {
      "cell_type": "code",
      "metadata": {
        "id": "QtlGH6X7nxxo"
      },
      "source": [
        "query_embeddings = []\n",
        "\n",
        "for movie_title in query_movies:\n",
        "    movieId = get_movie_id_by_title(movie_title) #getting id from title\n",
        "    token_id = vocabulary_lookup[movieId] #getting index for look up for embedding task\n",
        "    movie_embedding = movie_embeddings[token_id] #getting embedding for query movies\n",
        "    query_embeddings.append(movie_embedding)\n",
        "\n",
        "query_embeddings = np.array(query_embeddings)"
      ],
      "id": "QtlGH6X7nxxo",
      "execution_count": null,
      "outputs": []
    },
    {
      "cell_type": "markdown",
      "source": [
        "**Finding the top 5 similar Embeddings**"
      ],
      "metadata": {
        "id": "9xDw1fIFpdAU"
      },
      "id": "9xDw1fIFpdAU"
    },
    {
      "cell_type": "code",
      "metadata": {
        "id": "hmELYQSanxxo"
      },
      "source": [
        "similarities = tf.linalg.matmul(\n",
        "    tf.math.l2_normalize(query_embeddings), #normalizing the results of multiplication to get output of dot product on a scale of 0 to 1.\n",
        "    tf.math.l2_normalize(movie_embeddings),\n",
        "    transpose_b=True,\n",
        ")\n",
        "\n",
        "_, indices = tf.math.top_k(similarities, k=5)\n",
        "indices = indices.numpy().tolist()"
      ],
      "id": "hmELYQSanxxo",
      "execution_count": null,
      "outputs": []
    },
    {
      "cell_type": "markdown",
      "source": [
        "**Converting those top 5 Embeddings to Movie titles**"
      ],
      "metadata": {
        "id": "tW25JTskpo_l"
      },
      "id": "tW25JTskpo_l"
    },
    {
      "cell_type": "code",
      "metadata": {
        "colab": {
          "base_uri": "https://localhost:8080/"
        },
        "id": "9nt8qE6jnxxp",
        "outputId": "16abb526-ef19-41b0-bbd3-5980b3ef17bc"
      },
      "source": [
        "for idx, title in enumerate(query_movies):\n",
        "    print(title)\n",
        "    print(\"\".rjust(len(title), \"-\"))\n",
        "    similar_tokens = indices[idx]\n",
        "    for token in similar_tokens:\n",
        "        similar_movieId = vocabulary[token]\n",
        "        similar_title = get_movie_title_by_id(similar_movieId)\n",
        "        print(f\"- {similar_title}\")\n",
        "    print()"
      ],
      "id": "9nt8qE6jnxxp",
      "execution_count": null,
      "outputs": [
        {
          "output_type": "stream",
          "name": "stdout",
          "text": [
            "Matrix, The (1999)\n",
            "------------------\n",
            "- Matrix, The (1999)\n",
            "- Fight Club (1999)\n",
            "- Star Wars: Episode IV - A New Hope (1977)\n",
            "- Lord of the Rings: The Fellowship of the Ring, The (2001)\n",
            "- Pulp Fiction (1994)\n",
            "\n",
            "Star Wars: Episode IV - A New Hope (1977)\n",
            "-----------------------------------------\n",
            "- Star Wars: Episode IV - A New Hope (1977)\n",
            "- Star Wars: Episode V - The Empire Strikes Back (1980)\n",
            "- Lord of the Rings: The Two Towers, The (2002)\n",
            "- Matrix, The (1999)\n",
            "- Star Wars: Episode VI - Return of the Jedi (1983)\n",
            "\n",
            "Lion King, The (1994)\n",
            "---------------------\n",
            "- Lion King, The (1994)\n",
            "- Aladdin (1992)\n",
            "- Braveheart (1995)\n",
            "- Independence Day (a.k.a. ID4) (1996)\n",
            "- Beauty and the Beast (1991)\n",
            "\n",
            "Terminator 2: Judgment Day (1991)\n",
            "---------------------------------\n",
            "- Terminator 2: Judgment Day (1991)\n",
            "- Braveheart (1995)\n",
            "- Saving Private Ryan (1998)\n",
            "- Raiders of the Lost Ark (Indiana Jones and the Raiders of the Lost Ark) (1981)\n",
            "- Indiana Jones and the Last Crusade (1989)\n",
            "\n",
            "Godfather, The (1972)\n",
            "---------------------\n",
            "- Godfather, The (1972)\n",
            "- Rear Window (1954)\n",
            "- Casablanca (1942)\n",
            "- Graduate, The (1967)\n",
            "- Citizen Kane (1941)\n",
            "\n"
          ]
        }
      ]
    },
    {
      "cell_type": "markdown",
      "source": [
        "## Conclusion:\n",
        "\n",
        "- We have converted our user data which had ratings for movies to a self-supervised task of training an embedding vector, which is ultimately helping us in suggesting top 'k' similar movies for a particular.\n",
        "- We have used techniques of random walks and skipgram models to generate examples of pairs of similar nodes that help in node embedding.\n",
        "- We have used a graph neural network to solve a recommendation problem."
      ],
      "metadata": {
        "id": "lqO4Os5t5P5U"
      },
      "id": "lqO4Os5t5P5U"
    }
  ]
}