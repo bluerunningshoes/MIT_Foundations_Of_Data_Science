{
  "cells": [
    {
      "cell_type": "markdown",
      "metadata": {
        "id": "Q91KqmCRu64D"
      },
      "source": [
        "# **Project - Convolutional Neural Networks: Street View Housing Number Digit Recognition**\n",
        "\n",
        "# Marks: 30\n",
        "\n",
        "Welcome to the project on classification using Convolutional Neural Networks. We will continue to work with the Street View Housing Numbers (SVHN) image dataset for this project.\n",
        "\n",
        "--------------\n",
        "### **Context:** \n",
        "--------------\n",
        "\n",
        "One of the most interesting tasks in deep learning is to recognize objects in natural scenes. The ability to process visual information using machine learning algorithms can be very useful as demonstrated in various applications.\n",
        "\n",
        "The SVHN dataset contains over 600,000 labeled digits cropped from street-level photos. It is one of the most popular image recognition datasets. It has been used in neural networks created by Google to improve map quality by automatically transcribing the address numbers from a patch of pixels. The transcribed number with a known street address helps pinpoint the location of the building it represents. \n",
        "\n",
        "----------------\n",
        "### **Objective:**\n",
        "----------------\n",
        "\n",
        "Build a CNN model that can identify the digits in the images.\n",
        "\n",
        "-------------\n",
        "### **Dataset**\n",
        "-------------\n",
        "Here, we will use a subset of the original data to save some computation time. The dataset is provided as a .h5 file. The basic preprocessing steps have been done."
      ]
    },
    {
      "cell_type": "markdown",
      "metadata": {
        "id": "8z2Z7-OAs8QG"
      },
      "source": [
        "## **Mount the drive**\n",
        "Let us start by mounting the drive and importing the necessary libraries."
      ]
    },
    {
      "cell_type": "code",
      "execution_count": 57,
      "metadata": {
        "colab": {
          "base_uri": "https://localhost:8080/"
        },
        "id": "03lDyQUuef7z",
        "outputId": "fa6e18bd-e3f0-42c6-b6e9-572582090f4b"
      },
      "outputs": [
        {
          "output_type": "stream",
          "name": "stdout",
          "text": [
            "Mounted at /content/drive\n"
          ]
        }
      ],
      "source": [
        "from google.colab import drive\n",
        "drive.mount('/content/drive', force_remount=True)"
      ]
    },
    {
      "cell_type": "markdown",
      "metadata": {
        "id": "C8U3DUa3eNsT"
      },
      "source": [
        "## **Importing libraries**"
      ]
    },
    {
      "cell_type": "code",
      "execution_count": 58,
      "metadata": {
        "id": "-dVzeuF3eQx1"
      },
      "outputs": [],
      "source": [
        "import numpy as np\n",
        "import pandas as pd\n",
        "import matplotlib.pyplot as plt\n",
        "import seaborn as sns\n",
        "\n",
        "from sklearn.model_selection import train_test_split\n",
        "from sklearn.preprocessing import MinMaxScaler\n",
        "\n",
        "import tensorflow as tf\n",
        "from tensorflow.keras.models import Sequential\n",
        "from tensorflow.keras.layers import Dense, Conv2D, MaxPool2D, BatchNormalization, Dropout, Flatten, LeakyReLU\n",
        "from tensorflow.keras.utils import to_categorical"
      ]
    },
    {
      "cell_type": "markdown",
      "metadata": {
        "id": "ucnevGLoyKf_"
      },
      "source": [
        "Let us check for the version of TensorFlow."
      ]
    },
    {
      "cell_type": "code",
      "execution_count": null,
      "metadata": {
        "colab": {
          "base_uri": "https://localhost:8080/"
        },
        "id": "W5as47YxyJVk",
        "outputId": "cad1a7d5-9ac8-466f-8ee1-4496f8281606"
      },
      "outputs": [
        {
          "output_type": "stream",
          "name": "stdout",
          "text": [
            "2.7.0\n"
          ]
        }
      ],
      "source": [
        "print(tf.__version__)"
      ]
    },
    {
      "cell_type": "markdown",
      "metadata": {
        "id": "8lsux2ZwyTTR"
      },
      "source": [
        "## **Load the dataset**\n",
        "- Let us now load the dataset that is available as a .h5 file.\n",
        "- Split the data into train and the test dataset"
      ]
    },
    {
      "cell_type": "code",
      "execution_count": 59,
      "metadata": {
        "id": "BApX9qgNsqV0",
        "scrolled": true
      },
      "outputs": [],
      "source": [
        "import h5py\n",
        "\n",
        "# Open the file as read only\n",
        "# User can make changes in the path as required\n",
        "h5f = h5py.File('/content/drive/MyDrive/MIT DS Bootcamp/SVHN_single_grey1.h5', 'r')\n",
        "\n",
        "# Load the training and the test set\n",
        "X_train = h5f['X_train'][:]\n",
        "y_train = h5f['y_train'][:]\n",
        "X_test = h5f['X_test'][:]\n",
        "y_test = h5f['y_test'][:]\n",
        "\n",
        "\n",
        "# Close this file\n",
        "h5f.close()"
      ]
    },
    {
      "cell_type": "markdown",
      "metadata": {
        "id": "hVe0CYpUgj7w"
      },
      "source": [
        "Let's check the number of images in the training and testing data."
      ]
    },
    {
      "cell_type": "code",
      "execution_count": 60,
      "metadata": {
        "colab": {
          "base_uri": "https://localhost:8080/"
        },
        "id": "y3lwKpOefkpA",
        "outputId": "051fad80-6f4e-4cee-f7f5-b35d804ef236"
      },
      "outputs": [
        {
          "output_type": "execute_result",
          "data": {
            "text/plain": [
              "(42000, 18000)"
            ]
          },
          "metadata": {},
          "execution_count": 60
        }
      ],
      "source": [
        "len(X_train), len(X_test)"
      ]
    },
    {
      "cell_type": "markdown",
      "metadata": {
        "id": "akTUOfLlgwoM"
      },
      "source": [
        "**Observations**\n",
        "- There are 42,000 images in the training data and 18,000 images in the testing data. "
      ]
    },
    {
      "cell_type": "markdown",
      "metadata": {
        "id": "kxODV6HKykuc"
      },
      "source": [
        "## **Visualizing images**\n",
        "- Use X_train to visualize the first 10 images\n",
        "- Use Y_train to print the first 10 labels"
      ]
    },
    {
      "cell_type": "markdown",
      "metadata": {
        "id": "Rn5IZYv-e2TC"
      },
      "source": [
        "#### **Question 1: Complete the below code to visualize the first 10 images from the training data (1 Mark)**"
      ]
    },
    {
      "cell_type": "code",
      "execution_count": 61,
      "metadata": {
        "colab": {
          "base_uri": "https://localhost:8080/",
          "height": 95
        },
        "id": "Bvsc8ytHsqWD",
        "outputId": "a0443948-4679-4409-fcf1-8166060f5a56"
      },
      "outputs": [
        {
          "output_type": "display_data",
          "data": {
            "image/png": "[encoded data removed]",
            "text/plain": [
              "<Figure size 720x72 with 10 Axes>"
            ]
          },
          "metadata": {
            "needs_background": "light"
          }
        },
        {
          "output_type": "stream",
          "name": "stdout",
          "text": [
            "label for each of the above image: [2 6 7 4 4 0 3 0 7 3]\n"
          ]
        }
      ],
      "source": [
        "# visualizing the first 10 images in the dataset and their labels\n",
        "plt.figure(figsize=(10, 1))\n",
        "\n",
        "for i in range(10):\n",
        "    plt.subplot(1, 10, i+1)\n",
        "    plt.imshow(X_train[i], cmap=\"gray\") # write the function to visualize images\n",
        "    plt.axis('off')\n",
        "\n",
        "plt.show()\n",
        "print('label for each of the above image: %s' % (y_train[0:10]))"
      ]
    },
    {
      "cell_type": "markdown",
      "metadata": {
        "id": "kzoyeXHOy80N"
      },
      "source": [
        "## **Data Preparation**\n",
        "\n",
        "- Print the first image in the train image and figure out the shape of the images\n",
        "- Reshape the train and the test dataset to make them fit the first convolutional operation that we will create later. Figure out the required shape\n",
        "- Normalize the train and the test dataset by dividing by 255\n",
        "- Print the new shapes of the train and the test set\n",
        "- One-hot encode the target variable"
      ]
    },
    {
      "cell_type": "code",
      "execution_count": 62,
      "metadata": {
        "colab": {
          "base_uri": "https://localhost:8080/"
        },
        "id": "NqndzQXng9rL",
        "outputId": "17ebfbb7-def1-49b2-d341-36da821ef2b7"
      },
      "outputs": [
        {
          "output_type": "stream",
          "name": "stdout",
          "text": [
            "Shape: (32, 32)\n",
            "\n",
            "First image:\n",
            " [[ 33.0704  30.2601  26.852  ...  71.4471  58.2204  42.9939]\n",
            " [ 25.2283  25.5533  29.9765 ... 113.0209 103.3639  84.2949]\n",
            " [ 26.2775  22.6137  40.4763 ... 113.3028 121.775  115.4228]\n",
            " ...\n",
            " [ 28.5502  36.212   45.0801 ...  24.1359  25.0927  26.0603]\n",
            " [ 38.4352  26.4733  23.2717 ...  28.1094  29.4683  30.0661]\n",
            " [ 50.2984  26.0773  24.0389 ...  49.6682  50.853   53.0377]]\n"
          ]
        }
      ],
      "source": [
        "# Shape of the images and the first image\n",
        "\n",
        "print(\"Shape:\", X_train[0].shape)\n",
        "print()\n",
        "print(\"First image:\\n\", X_train[0])"
      ]
    },
    {
      "cell_type": "code",
      "execution_count": 63,
      "metadata": {
        "id": "D9YPwf9ysqWU"
      },
      "outputs": [],
      "source": [
        "# Reshaping the dataset to flatten them. Remember that we always have to give a 4D array as input to CNNs\n",
        "\n",
        "X_train = X_train.reshape(X_train.shape[0], 32,32,1)\n",
        "X_test = X_test.reshape(X_test.shape[0], 32,32,1)"
      ]
    },
    {
      "cell_type": "code",
      "execution_count": 64,
      "metadata": {
        "id": "q_yUUTp_mUzB"
      },
      "outputs": [],
      "source": [
        "# Normalize inputs from 0-255 to 0-1\n",
        "\n",
        "X_train = X_train / 255.0\n",
        "X_test = X_test / 255.0"
      ]
    },
    {
      "cell_type": "code",
      "execution_count": 65,
      "metadata": {
        "colab": {
          "base_uri": "https://localhost:8080/"
        },
        "id": "t7FSqOpamWkH",
        "outputId": "8439bbcd-a5e7-4ae8-e350-66f99a5765a6"
      },
      "outputs": [
        {
          "output_type": "stream",
          "name": "stdout",
          "text": [
            "Training set: (42000, 32, 32, 1) (42000,)\n",
            "Test set: (18000, 32, 32, 1) (18000,)\n"
          ]
        }
      ],
      "source": [
        "# New shape \n",
        "\n",
        "print('Training set:', X_train.shape, y_train.shape)\n",
        "print('Test set:', X_test.shape, y_test.shape)"
      ]
    },
    {
      "cell_type": "markdown",
      "metadata": {
        "id": "YP92jacue2TE"
      },
      "source": [
        "#### **Question 2: One-hot encode the labels in the target variable y_train and y_test (2 Marks)**"
      ]
    },
    {
      "cell_type": "code",
      "execution_count": 66,
      "metadata": {
        "colab": {
          "base_uri": "https://localhost:8080/"
        },
        "id": "zL0lYER4sqWw",
        "outputId": "a3bf17f4-0d72-4ac0-b0bf-7fc4ae1f189f"
      },
      "outputs": [
        {
          "output_type": "execute_result",
          "data": {
            "text/plain": [
              "array([[0., 1., 0., ..., 0., 0., 0.],\n",
              "       [0., 0., 0., ..., 1., 0., 0.],\n",
              "       [0., 0., 1., ..., 0., 0., 0.],\n",
              "       ...,\n",
              "       [0., 0., 0., ..., 1., 0., 0.],\n",
              "       [0., 0., 0., ..., 0., 0., 1.],\n",
              "       [0., 0., 1., ..., 0., 0., 0.]], dtype=float32)"
            ]
          },
          "metadata": {},
          "execution_count": 66
        }
      ],
      "source": [
        "#Write the function and appropriate variable name to one-hot encode the output\n",
        "\n",
        "y_train = tf.keras.utils.to_categorical(y_train)\n",
        "y_test = tf.keras.utils.to_categorical(y_test)\n",
        "\n",
        "#test labels\n",
        "y_test"
      ]
    },
    {
      "cell_type": "markdown",
      "metadata": {
        "id": "ViqPOTquCF76"
      },
      "source": [
        "- Notice that each entry of y_test is a one-hot encoded vector instead of a single label."
      ]
    },
    {
      "cell_type": "markdown",
      "metadata": {
        "id": "yH-gVrzuByNA"
      },
      "source": [
        "## **Model Building**\n",
        "\n",
        "Now, we have done data preprocessing, let's build a CNN model."
      ]
    },
    {
      "cell_type": "code",
      "execution_count": null,
      "metadata": {
        "id": "eaGr-3Noe2TF"
      },
      "outputs": [],
      "source": [
        "#Fixing the seed for random number generators\n",
        "np.random.seed(42)\n",
        "import random\n",
        "random.seed(42)\n",
        "tf.random.set_seed(42)"
      ]
    },
    {
      "cell_type": "markdown",
      "metadata": {
        "id": "UJDUoaEj1d6e"
      },
      "source": [
        "### **Model Architecture**\n",
        "- Write a function that returns a sequential model with the following architecture\n",
        " - First Convolutional layer with **16 filters and kernel size of 3x3**. Use the **'same' padding** and provide an **apt input shape**\n",
        " - Add a **LeakyRelu layer** with the **slope equal to 0.1**\n",
        " - Second Convolutional layer with **32 filters and kernel size of 3x3 with 'same' padding**\n",
        " - Another **LeakyRelu** with the **slope equal to 0.1**\n",
        " - A **max-pooling layer** with a **pool size of 2x2**\n",
        " - **Flatten** the output from the previous layer\n",
        " - Add a **dense layer with 32 nodes**\n",
        " - Add a **LeakyRelu layer with slope equal to 0.1**\n",
        " - Add the final **output layer with nodes equal to the number of classes** and **softmax activation**\n",
        " - Compile the model with the **categorical_crossentropy loss, adam optimizers (learning_rate = 0.001), and accuracy metric**. Do not fit the model here, just return the compiled model\n",
        "- Call the function and store the model in a new variable\n",
        "- Print the summary of the model.\n",
        "- Fit the model on the train data with a **validation split of 0.2, batch size = 32, verbose = 1, and 20 epochs**. Store the model building history to use later for visualization."
      ]
    },
    {
      "cell_type": "markdown",
      "metadata": {
        "id": "Uw8pZcNwe2TG"
      },
      "source": [
        "#### **Question 3: Build and train a CNN model as per the above mentioned architecture (10 Marks)**"
      ]
    },
    {
      "cell_type": "code",
      "execution_count": null,
      "metadata": {
        "id": "Cmi81Gr5sqW-"
      },
      "outputs": [],
      "source": [
        "#Importing losses and optimizers modules\n",
        "from tensorflow.keras import losses\n",
        "from tensorflow.keras import optimizers\n",
        "from tensorflow.keras.layers import Conv2D, MaxPooling2D\n",
        "\n",
        "#Define the function\n",
        "def cnn_model_1():\n",
        "    model = Sequential() \n",
        "    #Add layers as per the architecture mentioned above in the same sequence\n",
        "    model.add(Conv2D(filters=16, kernel_size=(3,3), padding='same', input_shape=(32, 32, 1)))\n",
        "    #Add LeakyRelu Layer\n",
        "    model.add(LeakyReLU(0.1))\n",
        "    #Add Second Convolutional layer with 32 filters and kernel size of 3x3 with 'same' padding\n",
        "    model.add(Conv2D(filters=32, kernel_size=(3,3), padding='same'))\n",
        "    #Add second LeakyRelu with slope=.1\n",
        "    model.add(LeakyReLU(0.1))\n",
        "    #Add max-pooling layer with a pool size of 2x2\n",
        "    model.add(MaxPooling2D(pool_size=(2,2)))\n",
        "    #flatten the output from the previous layer\n",
        "    model.add(Flatten())\n",
        "    #add a dense layer with 32 nodes\n",
        "    model.add(Dense(32))\n",
        "    #Add a leaky Relu layer with slope equal to 0.1\n",
        "    model.add(LeakyReLU(0.1))\n",
        "    #Add the final output layer with nodes equal to the number of classes and softmax activation--there are 10 classes because 10 numbers; 0, 1, 2, 3, 4, 5, 6, 7, 8, 9\n",
        "    model.add(Dense(10, activation='softmax'))\n",
        "\n",
        "    \n",
        "\n",
        "    #declare adam optimizer with learning rate of 0.001 \n",
        "    adam = optimizers.Adam(learning_rate = .001)\n",
        "    \n",
        "    #compile the model\n",
        "    model.compile(loss='categorical_crossentropy', optimizer=adam, metrics=['accuracy'])\n",
        "    \n",
        "    return model"
      ]
    },
    {
      "cell_type": "code",
      "execution_count": null,
      "metadata": {
        "id": "bGCUI_xsImnH"
      },
      "outputs": [],
      "source": [
        "#Build the model\n",
        "model_1 = cnn_model_1()"
      ]
    },
    {
      "cell_type": "code",
      "execution_count": null,
      "metadata": {
        "id": "ckJsLdmdQadZ",
        "colab": {
          "base_uri": "https://localhost:8080/"
        },
        "outputId": "2cdf7efd-6e84-4248-87da-3cf04500e726"
      },
      "outputs": [
        {
          "output_type": "stream",
          "name": "stdout",
          "text": [
            "Model: \"sequential\"\n",
            "_________________________________________________________________\n",
            " Layer (type)                Output Shape              Param #   \n",
            "=================================================================\n",
            " conv2d (Conv2D)             (None, 32, 32, 16)        160       \n",
            "                                                                 \n",
            " leaky_re_lu (LeakyReLU)     (None, 32, 32, 16)        0         \n",
            "                                                                 \n",
            " conv2d_1 (Conv2D)           (None, 32, 32, 32)        4640      \n",
            "                                                                 \n",
            " leaky_re_lu_1 (LeakyReLU)   (None, 32, 32, 32)        0         \n",
            "                                                                 \n",
            " max_pooling2d (MaxPooling2D  (None, 16, 16, 32)       0         \n",
            " )                                                               \n",
            "                                                                 \n",
            " flatten (Flatten)           (None, 8192)              0         \n",
            "                                                                 \n",
            " dense (Dense)               (None, 32)                262176    \n",
            "                                                                 \n",
            " leaky_re_lu_2 (LeakyReLU)   (None, 32)                0         \n",
            "                                                                 \n",
            " dense_1 (Dense)             (None, 10)                330       \n",
            "                                                                 \n",
            "=================================================================\n",
            "Total params: 267,306\n",
            "Trainable params: 267,306\n",
            "Non-trainable params: 0\n",
            "_________________________________________________________________\n"
          ]
        }
      ],
      "source": [
        "#Print the model summary\n",
        "model_1.summary()"
      ]
    },
    {
      "cell_type": "code",
      "execution_count": null,
      "metadata": {
        "id": "3Fy3Dif_zcCk",
        "colab": {
          "base_uri": "https://localhost:8080/"
        },
        "outputId": "1a40e3dc-24d1-4251-b3d8-e3c244861203"
      },
      "outputs": [
        {
          "output_type": "stream",
          "name": "stdout",
          "text": [
            "Epoch 1/20\n",
            "1050/1050 [==============================] - 22s 9ms/step - loss: 1.1914 - accuracy: 0.6030 - val_loss: 0.6433 - val_accuracy: 0.8123\n",
            "Epoch 2/20\n",
            "1050/1050 [==============================] - 9s 9ms/step - loss: 0.5362 - accuracy: 0.8478 - val_loss: 0.5123 - val_accuracy: 0.8542\n",
            "Epoch 3/20\n",
            "1050/1050 [==============================] - 9s 8ms/step - loss: 0.4407 - accuracy: 0.8705 - val_loss: 0.4919 - val_accuracy: 0.8613\n",
            "Epoch 4/20\n",
            "1050/1050 [==============================] - 9s 8ms/step - loss: 0.3825 - accuracy: 0.8880 - val_loss: 0.4505 - val_accuracy: 0.8768\n",
            "Epoch 5/20\n",
            "1050/1050 [==============================] - 9s 8ms/step - loss: 0.3358 - accuracy: 0.8996 - val_loss: 0.4827 - val_accuracy: 0.8635\n",
            "Epoch 6/20\n",
            "1050/1050 [==============================] - 9s 8ms/step - loss: 0.2971 - accuracy: 0.9109 - val_loss: 0.4564 - val_accuracy: 0.8718\n",
            "Epoch 7/20\n",
            "1050/1050 [==============================] - 9s 9ms/step - loss: 0.2663 - accuracy: 0.9199 - val_loss: 0.4505 - val_accuracy: 0.8761\n",
            "Epoch 8/20\n",
            "1050/1050 [==============================] - 9s 8ms/step - loss: 0.2376 - accuracy: 0.9277 - val_loss: 0.4774 - val_accuracy: 0.8719\n",
            "Epoch 9/20\n",
            "1050/1050 [==============================] - 9s 8ms/step - loss: 0.2127 - accuracy: 0.9346 - val_loss: 0.4828 - val_accuracy: 0.8767\n",
            "Epoch 10/20\n",
            "1050/1050 [==============================] - 9s 8ms/step - loss: 0.1868 - accuracy: 0.9424 - val_loss: 0.4921 - val_accuracy: 0.8794\n",
            "Epoch 11/20\n",
            "1050/1050 [==============================] - 9s 8ms/step - loss: 0.1697 - accuracy: 0.9473 - val_loss: 0.5376 - val_accuracy: 0.8717\n",
            "Epoch 12/20\n",
            "1050/1050 [==============================] - 9s 9ms/step - loss: 0.1516 - accuracy: 0.9534 - val_loss: 0.5651 - val_accuracy: 0.8707\n",
            "Epoch 13/20\n",
            "1050/1050 [==============================] - 9s 8ms/step - loss: 0.1342 - accuracy: 0.9578 - val_loss: 0.5915 - val_accuracy: 0.8702\n",
            "Epoch 14/20\n",
            "1050/1050 [==============================] - 9s 9ms/step - loss: 0.1235 - accuracy: 0.9601 - val_loss: 0.6301 - val_accuracy: 0.8693\n",
            "Epoch 15/20\n",
            "1050/1050 [==============================] - 9s 8ms/step - loss: 0.1107 - accuracy: 0.9648 - val_loss: 0.6559 - val_accuracy: 0.8652\n",
            "Epoch 16/20\n",
            "1050/1050 [==============================] - 9s 9ms/step - loss: 0.0999 - accuracy: 0.9669 - val_loss: 0.6965 - val_accuracy: 0.8665\n",
            "Epoch 17/20\n",
            "1050/1050 [==============================] - 9s 8ms/step - loss: 0.0906 - accuracy: 0.9710 - val_loss: 0.7029 - val_accuracy: 0.8720\n",
            "Epoch 18/20\n",
            "1050/1050 [==============================] - 9s 8ms/step - loss: 0.0802 - accuracy: 0.9737 - val_loss: 0.7921 - val_accuracy: 0.8651\n",
            "Epoch 19/20\n",
            "1050/1050 [==============================] - 9s 8ms/step - loss: 0.0786 - accuracy: 0.9744 - val_loss: 0.7823 - val_accuracy: 0.8636\n",
            "Epoch 20/20\n",
            "1050/1050 [==============================] - 9s 8ms/step - loss: 0.0719 - accuracy: 0.9759 - val_loss: 0.8642 - val_accuracy: 0.8675\n"
          ]
        }
      ],
      "source": [
        "# Fit the model\n",
        "#Fit the model on the train data with a validation split of 0.2, batch size = 32, verbose = 1, and 20 epochs. Store the model building history to use later for visualization.\n",
        "history_model_1 = model_1.fit(X_train, y_train, validation_split=0.2, verbose=1, epochs=20, batch_size=32)"
      ]
    },
    {
      "cell_type": "markdown",
      "metadata": {
        "id": "tKOckG-KPyLg"
      },
      "source": [
        "### **Plotting the validation and training accuracies**"
      ]
    },
    {
      "cell_type": "markdown",
      "metadata": {
        "id": "sVyQ9Gpge2TI"
      },
      "source": [
        "#### **Question 4: Write your observations on the below plot (2 Marks)**"
      ]
    },
    {
      "cell_type": "code",
      "execution_count": null,
      "metadata": {
        "colab": {
          "base_uri": "https://localhost:8080/",
          "height": 497
        },
        "id": "lt77zgGMP4yw",
        "outputId": "29d2357f-2254-4cdb-ee0b-ee84af79484f"
      },
      "outputs": [
        {
          "output_type": "display_data",
          "data": {
            "image/png": "[encoded data removed]",
            "text/plain": [
              "<Figure size 576x576 with 1 Axes>"
            ]
          },
          "metadata": {
            "needs_background": "light"
          }
        }
      ],
      "source": [
        "# plotting the accuracies\n",
        "\n",
        "dict_hist = history_model_1.history\n",
        "list_ep = [i for i in range(1,21)]\n",
        "\n",
        "plt.figure(figsize = (8,8))\n",
        "plt.plot(list_ep,dict_hist['accuracy'],ls = '--', label = 'accuracy')\n",
        "plt.plot(list_ep,dict_hist['val_accuracy'],ls = '--', label = 'val_accuracy')\n",
        "plt.ylabel('Accuracy')\n",
        "plt.xlabel('Epochs')\n",
        "plt.legend()\n",
        "plt.show()"
      ]
    },
    {
      "cell_type": "markdown",
      "metadata": {
        "id": "pGBbQpLONX7k"
      },
      "source": [
        "**Observations:**\n",
        "Performance seems really level and thus accuracy doesn't improve with subsequent epochs. Retraining is called for."
      ]
    },
    {
      "cell_type": "markdown",
      "metadata": {
        "id": "z0qgLMBZm5-K"
      },
      "source": [
        "Let's build another model and see if we can get a better model with generalized performance.\n",
        "\n",
        "First, we need to clear the previous model's history from the keras backend. Also, let's fix the seed again after clearing the backend."
      ]
    },
    {
      "cell_type": "code",
      "execution_count": null,
      "metadata": {
        "id": "y98BpLxsok_H"
      },
      "outputs": [],
      "source": [
        "#Clearing backend\n",
        "from tensorflow.keras import backend\n",
        "backend.clear_session()"
      ]
    },
    {
      "cell_type": "code",
      "execution_count": null,
      "metadata": {
        "id": "HbKi93HTolGW"
      },
      "outputs": [],
      "source": [
        "#Fixing the seed for random number generators\n",
        "np.random.seed(42)\n",
        "import random\n",
        "random.seed(42)\n",
        "tf.random.set_seed(42)"
      ]
    },
    {
      "cell_type": "markdown",
      "metadata": {
        "id": "lT6o3TIKuCtk"
      },
      "source": [
        "### **Second Model Architecture**\n",
        "- Write a function that returns a sequential model with the following architecture\n",
        " - First Convolutional layer with **16 filters and kernel size of 3x3**. Use the **'same' padding** and provide an **apt input shape**\n",
        " - Add a **LeakyRelu layer** with the **slope equal to 0.1**\n",
        " - Second Convolutional layer with **32 filters and kernel size of 3x3 with 'same' padding**\n",
        " - Add **LeakyRelu** with the **slope equal to 0.1**\n",
        " - Add a **max-pooling layer** with a **pool size of 2x2**\n",
        " - Add a **BatchNormalization layer**\n",
        " - Third Convolutional layer with **32 filters and kernel size of 3x3 with 'same' padding**\n",
        " - Add a **LeakyRelu layer with slope equal to 0.1**\n",
        " - Fourth Convolutional layer **64 filters and kernel size of 3x3 with 'same' padding** \n",
        " - Add a **LeakyRelu layer with slope equal to 0.1**\n",
        " - Add a **max-pooling layer** with a **pool size of 2x2**\n",
        " - Add a **BatchNormalization layer**\n",
        " - **Flatten** the output from the previous layer\n",
        " - Add a **dense layer with 32 nodes**\n",
        " - Add a **LeakyRelu layer with slope equal to 0.1**\n",
        " - Add a **dropout layer with rate equal to 0.5**\n",
        " - Add the final **output layer with nodes equal to the number of classes** and **softmax activation**\n",
        " - Compile the model with the **categorical_crossentropy loss, adam optimizers (learning_rate = 0.001), and accuracy metric**. Do not fit the model here, just return the compiled model\n",
        "- Call the function and store the model in a new variable\n",
        "- Print the summary of the model.\n",
        "- Fit the model on the train data with a **validation split of 0.2, batch size = 128, verbose = 1, and 30 epochs**. Store the model building history to use later for visualization."
      ]
    },
    {
      "cell_type": "markdown",
      "metadata": {
        "id": "Sr-bwBT2e2TJ"
      },
      "source": [
        "#### **Question 5: Build and train the second CNN model as per the above mentioned architecture (10 Marks)**"
      ]
    },
    {
      "cell_type": "code",
      "execution_count": 67,
      "metadata": {
        "id": "EEPYLFIPnSDP"
      },
      "outputs": [],
      "source": [
        "#Define the function\n",
        "def cnn_model_2():\n",
        "    model = Sequential() \n",
        "    #Add layers as per the architecture mentioned above in the same sequence\n",
        "    #Add first convolutional layer with 16 filters and kernel size of 3x3\n",
        "    model.add(Conv2D(filters=16, kernel_size=(3,3), padding='same', input_shape=(32, 32, 1)))\n",
        "    #add leaky relu layer with slope of 0.1\n",
        "    model.add(LeakyReLU(0.1))\n",
        "    #add second convolutional layer with 32 filters and kernel size of 3x3 with 'same' padding\n",
        "    model.add(Conv2D(filters=32, kernel_size=(3,3), padding='same'))\n",
        "    #add second leakyrelu with slope of 0.1\n",
        "    model.add(LeakyReLU(0.1))\n",
        "    #Add a max-pooling layer with pool size of 2x2\n",
        "    model.add(MaxPooling2D(pool_size=(2,2)))\n",
        "    #add a batch normalization layer\n",
        "    model.add(BatchNormalization())\n",
        "   #add third convolutional layer with 32 filters and kernel size of 3x3 with 'same' padding\n",
        "    model.add(Conv2D(filters=32, kernel_size=(3,3), padding='same'))\n",
        "    #add third leakyrelu with slope of 0.1\n",
        "    model.add(LeakyReLU(0.1))\n",
        "   #add forth convolutional layer with 64 filters and kernel size of 3x3 with 'same' padding\n",
        "    model.add(Conv2D(filters=64, kernel_size=(3,3), padding='same'))\n",
        "    #add fourth leakyrelu with slope of 0.1\n",
        "    model.add(LeakyReLU(0.1))\n",
        "    #Add a max-pooling layer with pool size of 2x2\n",
        "    model.add(MaxPooling2D(pool_size=(2,2)))\n",
        "    #add a batch normalization layer\n",
        "    model.add(BatchNormalization())\n",
        "\n",
        "    #flatten the output from the previous layer\n",
        "    model.add(Flatten())\n",
        "    #add a dense layer with 32 nodes\n",
        "    model.add(Dense(32))\n",
        "    #add a leaky Relu layer with a slope equal to 0.1\n",
        "    model.add(LeakyReLU(0.1))\n",
        "    #add a dropout layer with a rate equal to 0.5\n",
        "    model.add(Dropout(0.5))\n",
        "    #add the final output layer with nodes equal to the number of classes and softmax activation\n",
        "    model.add(Dense(10, activation='softmax'))\n",
        "\n",
        "\n",
        "    #declare adam optimizer with learning rate of 0.001 \n",
        "    adam = optimizers.Adam(learning_rate = 0.001)\n",
        "    \n",
        "    #compile the model\n",
        "    model.compile(loss='categorical_crossentropy', optimizer=adam, metrics=['accuracy'])\n",
        "    \n",
        "    return model"
      ]
    },
    {
      "cell_type": "code",
      "execution_count": 68,
      "metadata": {
        "id": "AKjDY4plnSFl"
      },
      "outputs": [],
      "source": [
        "# Build the model\n",
        "model_2 = cnn_model_2()"
      ]
    },
    {
      "cell_type": "code",
      "execution_count": 69,
      "metadata": {
        "id": "gz_6SVrU2swZ",
        "colab": {
          "base_uri": "https://localhost:8080/"
        },
        "outputId": "dafd04b6-3965-4b19-ff82-c7b4e288e8cb"
      },
      "outputs": [
        {
          "output_type": "stream",
          "name": "stdout",
          "text": [
            "Model: \"sequential_2\"\n",
            "_________________________________________________________________\n",
            " Layer (type)                Output Shape              Param #   \n",
            "=================================================================\n",
            " conv2d_8 (Conv2D)           (None, 32, 32, 16)        160       \n",
            "                                                                 \n",
            " leaky_re_lu_10 (LeakyReLU)  (None, 32, 32, 16)        0         \n",
            "                                                                 \n",
            " conv2d_9 (Conv2D)           (None, 32, 32, 32)        4640      \n",
            "                                                                 \n",
            " leaky_re_lu_11 (LeakyReLU)  (None, 32, 32, 32)        0         \n",
            "                                                                 \n",
            " max_pooling2d_4 (MaxPooling  (None, 16, 16, 32)       0         \n",
            " 2D)                                                             \n",
            "                                                                 \n",
            " batch_normalization_4 (Batc  (None, 16, 16, 32)       128       \n",
            " hNormalization)                                                 \n",
            "                                                                 \n",
            " conv2d_10 (Conv2D)          (None, 16, 16, 32)        9248      \n",
            "                                                                 \n",
            " leaky_re_lu_12 (LeakyReLU)  (None, 16, 16, 32)        0         \n",
            "                                                                 \n",
            " conv2d_11 (Conv2D)          (None, 16, 16, 64)        18496     \n",
            "                                                                 \n",
            " leaky_re_lu_13 (LeakyReLU)  (None, 16, 16, 64)        0         \n",
            "                                                                 \n",
            " max_pooling2d_5 (MaxPooling  (None, 8, 8, 64)         0         \n",
            " 2D)                                                             \n",
            "                                                                 \n",
            " batch_normalization_5 (Batc  (None, 8, 8, 64)         256       \n",
            " hNormalization)                                                 \n",
            "                                                                 \n",
            " flatten_2 (Flatten)         (None, 4096)              0         \n",
            "                                                                 \n",
            " dense_4 (Dense)             (None, 32)                131104    \n",
            "                                                                 \n",
            " leaky_re_lu_14 (LeakyReLU)  (None, 32)                0         \n",
            "                                                                 \n",
            " dropout_2 (Dropout)         (None, 32)                0         \n",
            "                                                                 \n",
            " dense_5 (Dense)             (None, 10)                330       \n",
            "                                                                 \n",
            "=================================================================\n",
            "Total params: 164,362\n",
            "Trainable params: 164,170\n",
            "Non-trainable params: 192\n",
            "_________________________________________________________________\n"
          ]
        }
      ],
      "source": [
        "#Print the summary\n",
        "model_2.summary()"
      ]
    },
    {
      "cell_type": "code",
      "execution_count": 70,
      "metadata": {
        "id": "IQ0Sc4R-y-uu",
        "colab": {
          "base_uri": "https://localhost:8080/"
        },
        "outputId": "ba412d2f-8e56-4824-a174-1565823f70d4"
      },
      "outputs": [
        {
          "output_type": "stream",
          "name": "stdout",
          "text": [
            "Epoch 1/30\n",
            "263/263 [==============================] - 7s 23ms/step - loss: 1.4789 - accuracy: 0.4961 - val_loss: 1.8535 - val_accuracy: 0.3627\n",
            "Epoch 2/30\n",
            "263/263 [==============================] - 6s 22ms/step - loss: 0.6880 - accuracy: 0.7889 - val_loss: 0.6098 - val_accuracy: 0.8169\n",
            "Epoch 3/30\n",
            "263/263 [==============================] - 6s 22ms/step - loss: 0.5580 - accuracy: 0.8293 - val_loss: 0.4428 - val_accuracy: 0.8724\n",
            "Epoch 4/30\n",
            "263/263 [==============================] - 6s 22ms/step - loss: 0.4884 - accuracy: 0.8521 - val_loss: 0.5183 - val_accuracy: 0.8470\n",
            "Epoch 5/30\n",
            "263/263 [==============================] - 6s 22ms/step - loss: 0.4521 - accuracy: 0.8622 - val_loss: 0.4250 - val_accuracy: 0.8776\n",
            "Epoch 6/30\n",
            "263/263 [==============================] - 6s 22ms/step - loss: 0.4144 - accuracy: 0.8740 - val_loss: 0.3849 - val_accuracy: 0.8908\n",
            "Epoch 7/30\n",
            "263/263 [==============================] - 6s 22ms/step - loss: 0.3884 - accuracy: 0.8801 - val_loss: 0.4122 - val_accuracy: 0.8818\n",
            "Epoch 8/30\n",
            "263/263 [==============================] - 6s 23ms/step - loss: 0.3650 - accuracy: 0.8882 - val_loss: 0.4073 - val_accuracy: 0.8810\n",
            "Epoch 9/30\n",
            "263/263 [==============================] - 6s 22ms/step - loss: 0.3397 - accuracy: 0.8944 - val_loss: 0.4044 - val_accuracy: 0.8838\n",
            "Epoch 10/30\n",
            "263/263 [==============================] - 6s 22ms/step - loss: 0.3243 - accuracy: 0.8990 - val_loss: 0.3551 - val_accuracy: 0.9044\n",
            "Epoch 11/30\n",
            "263/263 [==============================] - 6s 22ms/step - loss: 0.3072 - accuracy: 0.9054 - val_loss: 0.4212 - val_accuracy: 0.8886\n",
            "Epoch 12/30\n",
            "263/263 [==============================] - 6s 22ms/step - loss: 0.2938 - accuracy: 0.9079 - val_loss: 0.3826 - val_accuracy: 0.8955\n",
            "Epoch 13/30\n",
            "263/263 [==============================] - 6s 22ms/step - loss: 0.2744 - accuracy: 0.9126 - val_loss: 0.3888 - val_accuracy: 0.9038\n",
            "Epoch 14/30\n",
            "263/263 [==============================] - 6s 22ms/step - loss: 0.2696 - accuracy: 0.9155 - val_loss: 0.3672 - val_accuracy: 0.9115\n",
            "Epoch 15/30\n",
            "263/263 [==============================] - 6s 22ms/step - loss: 0.2502 - accuracy: 0.9196 - val_loss: 0.3797 - val_accuracy: 0.9062\n",
            "Epoch 16/30\n",
            "263/263 [==============================] - 6s 22ms/step - loss: 0.2467 - accuracy: 0.9203 - val_loss: 0.3896 - val_accuracy: 0.8998\n",
            "Epoch 17/30\n",
            "263/263 [==============================] - 6s 22ms/step - loss: 0.2372 - accuracy: 0.9220 - val_loss: 0.3638 - val_accuracy: 0.9027\n",
            "Epoch 18/30\n",
            "263/263 [==============================] - 6s 23ms/step - loss: 0.2292 - accuracy: 0.9264 - val_loss: 0.3552 - val_accuracy: 0.9096\n",
            "Epoch 19/30\n",
            "263/263 [==============================] - 6s 22ms/step - loss: 0.2158 - accuracy: 0.9284 - val_loss: 0.3837 - val_accuracy: 0.9044\n",
            "Epoch 20/30\n",
            "263/263 [==============================] - 6s 22ms/step - loss: 0.2090 - accuracy: 0.9316 - val_loss: 0.3765 - val_accuracy: 0.9120\n",
            "Epoch 21/30\n",
            "263/263 [==============================] - 6s 22ms/step - loss: 0.2019 - accuracy: 0.9340 - val_loss: 0.4401 - val_accuracy: 0.8937\n",
            "Epoch 22/30\n",
            "263/263 [==============================] - 6s 22ms/step - loss: 0.1949 - accuracy: 0.9345 - val_loss: 0.3950 - val_accuracy: 0.9138\n",
            "Epoch 23/30\n",
            "263/263 [==============================] - 6s 22ms/step - loss: 0.1929 - accuracy: 0.9374 - val_loss: 0.3987 - val_accuracy: 0.9113\n",
            "Epoch 24/30\n",
            "263/263 [==============================] - 6s 22ms/step - loss: 0.1828 - accuracy: 0.9390 - val_loss: 0.3984 - val_accuracy: 0.9086\n",
            "Epoch 25/30\n",
            "263/263 [==============================] - 6s 22ms/step - loss: 0.1793 - accuracy: 0.9405 - val_loss: 0.4504 - val_accuracy: 0.9027\n",
            "Epoch 26/30\n",
            "263/263 [==============================] - 6s 22ms/step - loss: 0.1675 - accuracy: 0.9433 - val_loss: 0.4348 - val_accuracy: 0.9132\n",
            "Epoch 27/30\n",
            "263/263 [==============================] - 6s 22ms/step - loss: 0.1719 - accuracy: 0.9427 - val_loss: 0.4737 - val_accuracy: 0.8980\n",
            "Epoch 28/30\n",
            "263/263 [==============================] - 6s 22ms/step - loss: 0.1646 - accuracy: 0.9452 - val_loss: 0.4711 - val_accuracy: 0.9042\n",
            "Epoch 29/30\n",
            "263/263 [==============================] - 6s 22ms/step - loss: 0.1656 - accuracy: 0.9435 - val_loss: 0.4362 - val_accuracy: 0.9143\n",
            "Epoch 30/30\n",
            "263/263 [==============================] - 6s 22ms/step - loss: 0.1562 - accuracy: 0.9474 - val_loss: 0.4402 - val_accuracy: 0.9054\n"
          ]
        }
      ],
      "source": [
        "# Fit the model\n",
        "history_model_2 = model_2.fit(X_train, y_train, validation_data=(X_test, y_test), validation_split=0.2, verbose=1, epochs=30, batch_size=128)"
      ]
    },
    {
      "cell_type": "markdown",
      "metadata": {
        "id": "0_f1EXmTe2TK"
      },
      "source": [
        "### **Plotting the validation and training accuracies**"
      ]
    },
    {
      "cell_type": "markdown",
      "metadata": {
        "id": "aC5UbsqXe2TK"
      },
      "source": [
        "#### **Question 6: Write your observations on the below plot (2 Marks)**"
      ]
    },
    {
      "cell_type": "code",
      "execution_count": 71,
      "metadata": {
        "colab": {
          "base_uri": "https://localhost:8080/",
          "height": 497
        },
        "id": "01ig6BrF1KVy",
        "outputId": "6bc0c6ba-03c8-421a-bd13-7bdc343de927"
      },
      "outputs": [
        {
          "output_type": "display_data",
          "data": {
            "image/png": "[encoded data removed]",
            "text/plain": [
              "<Figure size 576x576 with 1 Axes>"
            ]
          },
          "metadata": {
            "needs_background": "light"
          }
        }
      ],
      "source": [
        "# plotting the accuracies\n",
        "\n",
        "dict_hist = history_model_2.history\n",
        "list_ep = [i for i in range(1,31)]\n",
        "\n",
        "plt.figure(figsize = (8,8))\n",
        "plt.plot(list_ep,dict_hist['accuracy'],ls = '--', label = 'accuracy')\n",
        "plt.plot(list_ep,dict_hist['val_accuracy'],ls = '--', label = 'val_accuracy')\n",
        "plt.ylabel('Accuracy')\n",
        "plt.xlabel('Epochs')\n",
        "plt.legend()\n",
        "plt.show()"
      ]
    },
    {
      "cell_type": "markdown",
      "metadata": {
        "id": "VPW1LlD61RDn"
      },
      "source": [
        "**Observations:**\n",
        "The accuracy actually seems rather high (0.9!) for both training and test, but the performance with subsequent epochs seems to flatten out. Given how the model peaks at about 7 epochs, some additional tuning might allow us to see performance increase with additional epochs."
      ]
    },
    {
      "cell_type": "markdown",
      "metadata": {
        "id": "8kuXx9Bvu00f"
      },
      "source": [
        "## **Predictions on the test data**\n",
        "\n",
        "- Make predictions on the test set using the second model\n",
        "- Print the obtained results using the classification report and the confusion matrix\n",
        "- Final observations from the obtained results"
      ]
    },
    {
      "cell_type": "markdown",
      "metadata": {
        "id": "yfZwC9OUe2TL"
      },
      "source": [
        "#### **Question 7: Make predictions on the test data using the second model (1 Mark)**"
      ]
    },
    {
      "cell_type": "code",
      "execution_count": 72,
      "metadata": {
        "id": "xbWMEtTj5Ad0"
      },
      "outputs": [],
      "source": [
        "#Make prediction on the test data using model_2 \n",
        "test_pred = model_2.predict(X_test)\n",
        "\n",
        "test_pred = np.argmax(test_pred, axis=-1)"
      ]
    },
    {
      "cell_type": "code",
      "source": [
        "test_pred"
      ],
      "metadata": {
        "id": "bR1R9lnfWn4q",
        "outputId": "9b72200e-4691-4b17-d892-0d4a670f9c94",
        "colab": {
          "base_uri": "https://localhost:8080/"
        }
      },
      "execution_count": 73,
      "outputs": [
        {
          "output_type": "execute_result",
          "data": {
            "text/plain": [
              "array([1, 7, 2, ..., 7, 3, 2])"
            ]
          },
          "metadata": {},
          "execution_count": 73
        }
      ]
    },
    {
      "cell_type": "code",
      "source": [
        "y_test"
      ],
      "metadata": {
        "id": "2KPnhQK5WpEY",
        "outputId": "51c6c3a1-b4c9-4763-f9e6-5a086165f911",
        "colab": {
          "base_uri": "https://localhost:8080/"
        }
      },
      "execution_count": 74,
      "outputs": [
        {
          "output_type": "execute_result",
          "data": {
            "text/plain": [
              "array([[0., 1., 0., ..., 0., 0., 0.],\n",
              "       [0., 0., 0., ..., 1., 0., 0.],\n",
              "       [0., 0., 1., ..., 0., 0., 0.],\n",
              "       ...,\n",
              "       [0., 0., 0., ..., 1., 0., 0.],\n",
              "       [0., 0., 0., ..., 0., 0., 1.],\n",
              "       [0., 0., 1., ..., 0., 0., 0.]], dtype=float32)"
            ]
          },
          "metadata": {},
          "execution_count": 74
        }
      ]
    },
    {
      "cell_type": "markdown",
      "metadata": {
        "id": "i3li8Ib08yts"
      },
      "source": [
        "**Note:** Earlier, we noticed that each entry of the test data is a one-hot encoded vector but to print the classification report and confusion matrix, we must convert each entry of y_test to a single label."
      ]
    },
    {
      "cell_type": "code",
      "execution_count": 75,
      "metadata": {
        "id": "NByu7uAQ8x9P"
      },
      "outputs": [],
      "source": [
        "#Converting each entry to single label from one-hot encoded vector\n",
        "y_test = np.argmax(y_test, axis=-1)"
      ]
    },
    {
      "cell_type": "markdown",
      "metadata": {
        "id": "yHDUEma0e2TM"
      },
      "source": [
        "#### **Question 8: Write your final observations on the performance of the model on the test data (2 Marks)**"
      ]
    },
    {
      "cell_type": "code",
      "execution_count": 76,
      "metadata": {
        "colab": {
          "base_uri": "https://localhost:8080/",
          "height": 629
        },
        "id": "xRddeJ-3EHT1",
        "outputId": "c5f7d419-0346-4880-9140-b70e958feaa8"
      },
      "outputs": [
        {
          "output_type": "stream",
          "name": "stdout",
          "text": [
            "              precision    recall  f1-score   support\n",
            "\n",
            "           0       0.96      0.90      0.93      1814\n",
            "           1       0.92      0.88      0.90      1828\n",
            "           2       0.88      0.94      0.91      1803\n",
            "           3       0.82      0.90      0.86      1719\n",
            "           4       0.89      0.94      0.91      1812\n",
            "           5       0.90      0.89      0.90      1768\n",
            "           6       0.90      0.89      0.90      1832\n",
            "           7       0.93      0.91      0.92      1808\n",
            "           8       0.91      0.88      0.90      1812\n",
            "           9       0.92      0.89      0.90      1804\n",
            "\n",
            "    accuracy                           0.90     18000\n",
            "   macro avg       0.90      0.90      0.90     18000\n",
            "weighted avg       0.90      0.90      0.90     18000\n",
            "\n"
          ]
        },
        {
          "output_type": "display_data",
          "data": {
            "image/png": "[encoded data removed]",
            "text/plain": [
              "<Figure size 576x360 with 2 Axes>"
            ]
          },
          "metadata": {
            "needs_background": "light"
          }
        }
      ],
      "source": [
        "#importing required functions\n",
        "from sklearn.metrics import classification_report\n",
        "from sklearn.metrics import confusion_matrix\n",
        "\n",
        "#Printing the classification report\n",
        "print(classification_report(y_test, test_pred))\n",
        "\n",
        "#Plotting the heatmap using confusion matrix\n",
        "cm = confusion_matrix(y_test, test_pred)\n",
        "plt.figure(figsize=(8,5))\n",
        "sns.heatmap(cm, annot=True,  fmt='.0f')\n",
        "plt.ylabel('Actual')\n",
        "plt.xlabel('Predicted')\n",
        "plt.show()"
      ]
    },
    {
      "cell_type": "markdown",
      "metadata": {
        "id": "DjErl4GA2u9s"
      },
      "source": [
        "#### **Observations:**\n",
        "* Recall is consistently high when we compare CNN to ANN, with a recall consistently at or around .90 for all numbers. \n",
        "\n",
        "* Like NN however, we can see that 3 still performs slightly poorly, being misclassified as 5 or 8 occasionally. This could be due to training on edge-adjacent 8's (see the images of numbers at the top of the workbook) indicating that the model is training to think that edge-5's and 8's are actually 3's. \n",
        "  * This could be resolved by alternate padding strategies around the edge of the training data"
      ]
    },
    {
      "cell_type": "code",
      "source": [
        ""
      ],
      "metadata": {
        "id": "smFsjxofbKMV"
      },
      "execution_count": null,
      "outputs": []
    }
  ],
  "metadata": {
    "accelerator": "GPU",
    "colab": {
      "collapsed_sections": [
        "kzoyeXHOy80N",
        "YP92jacue2TE",
        "yH-gVrzuByNA",
        "Uw8pZcNwe2TG",
        "sVyQ9Gpge2TI",
        "lT6o3TIKuCtk",
        "Sr-bwBT2e2TJ",
        "aC5UbsqXe2TK",
        "8kuXx9Bvu00f",
        "yfZwC9OUe2TL",
        "yHDUEma0e2TM"
      ],
      "name": "CNN_Project_Learner_Notebook_SVHN.ipynb",
      "provenance": []
    },
    "kernelspec": {
      "display_name": "Python 3 (ipykernel)",
      "language": "python",
      "name": "python3"
    },
    "language_info": {
      "codemirror_mode": {
        "name": "ipython",
        "version": 3
      },
      "file_extension": ".py",
      "mimetype": "text/x-python",
      "name": "python",
      "nbconvert_exporter": "python",
      "pygments_lexer": "ipython3",
      "version": "3.8.8"
    }
  },
  "nbformat": 4,
  "nbformat_minor": 0
}