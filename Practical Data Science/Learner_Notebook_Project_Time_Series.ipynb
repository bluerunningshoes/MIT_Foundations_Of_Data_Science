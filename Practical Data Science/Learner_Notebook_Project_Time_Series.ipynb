{
 "cells": [
  {
   "cell_type": "markdown",
   "metadata": {
    "id": "HOp58caIJ7Dn"
   },
   "source": [
    "# **Project: Time Series - Forecasting Stock Prices**\n",
    "# Marks: 30\n",
    "\n",
    "Welcome to the project on Time Series. We will use the Amazon Stock Prices dataset for this project.\n",
    " \n",
    "----------------\n",
    "## **Context:** \n",
    "----------------\n",
    "\n",
    "**Stocks are one of the most popular financial instruments invented for building wealth** and are the **centerpiece of any investment portfolio.** Recent advances in trading technology have opened up stock markets in such a way that nowadays, **nearly anybody can own stock.** \n",
    "\n",
    "In the last few decades, there's been an **explosive increase in the average person's interest for the stock market.** This makes stock value prediction an interesting and popular problem to explore.\n",
    "\n",
    "\n",
    "------------------\n",
    "## **Objective:**\n",
    "------------------\n",
    "\n",
    "Amazon.com, Inc. engages in the retail sale of consumer products and subscriptions in North America as well as internationally. This dataset consists of monthly average stock closing prices of Amazon over a period of 12 years from 2006 to 2017. We have to **build a time series model** using the AR, MA, ARMA and ARIMA models in order to **forecast the stock closing price of Amazon.**\n",
    "\n",
    "--------------------------\n",
    "## **Data Dictionary:**\n",
    "--------------------------\n",
    "- **date:** Date when the price was collected\n",
    "- **close:** Closing price of the stock"
   ]
  },
  {
   "cell_type": "markdown",
   "metadata": {
    "id": "8exxCklSLD58"
   },
   "source": [
    "### Importing libraries"
   ]
  },
  {
   "cell_type": "code",
   "execution_count": null,
   "metadata": {
    "id": "_KMn7Qsq3q3K"
   },
   "outputs": [],
   "source": [
    "# Install this to upgrade the statsmodels package. It will be required to use AR, MA, & ARMA models\n",
    "#!pip install statsmodels --upgrade"
   ]
  },
  {
   "cell_type": "code",
   "execution_count": null,
   "metadata": {
    "id": "1J6Clnku5OvX"
   },
   "outputs": [],
   "source": [
    "#If the above command doesn't work, please run the below command in the anaconda prompt, otherwise ignore\n",
    "#conda install statsmodels"
   ]
  },
  {
   "cell_type": "code",
   "execution_count": null,
   "metadata": {
    "id": "gLjB0Gq3tjd9"
   },
   "outputs": [],
   "source": [
    "# Importing libraries for data manipulation\n",
    "import pandas as pd\n",
    "import numpy as np\n",
    "\n",
    "#Importing libraries for visualization\n",
    "import matplotlib.pylab as plt\n",
    "import seaborn as sns\n",
    "\n",
    "#Importing library for date manipulation\n",
    "from datetime import datetime\n",
    "\n",
    "#To calculate the MSE or RMSE\n",
    "from sklearn.metrics import mean_squared_error\n",
    "\n",
    "#Importing acf and pacf functions\n",
    "from statsmodels.graphics.tsaplots import plot_acf, plot_pacf\n",
    "\n",
    "#Importing models from statsmodels library\n",
    "from statsmodels.tsa.ar_model import AutoReg\n",
    "from statsmodels.tsa.arima.model import ARIMA\n",
    "\n",
    "#To ignore the warnings\n",
    "import warnings\n",
    "warnings.filterwarnings('ignore')"
   ]
  },
  {
   "cell_type": "markdown",
   "metadata": {
    "id": "s1M9cLcwLjYP"
   },
   "source": [
    "### Reading the dataset"
   ]
  },
  {
   "cell_type": "code",
   "execution_count": null,
   "metadata": {
    "id": "yEY4X-hi6YNd"
   },
   "outputs": [],
   "source": [
    "#If you are having an issue while loading the excel file in pandas, please run the below command in anaconda prompt, otherwise ignore.\n",
    "#conda install -c anaconda xlrd"
   ]
  },
  {
   "cell_type": "code",
   "execution_count": null,
   "metadata": {
    "colab": {
     "base_uri": "https://localhost:8080/",
     "height": 197
    },
    "id": "txrecHfeD-Xk",
    "outputId": "0f19be97-ad87-48df-b03e-014aed5fe6e7"
   },
   "outputs": [
    {
     "data": {
      "text/html": [
       "<div>\n",
       "<style scoped>\n",
       "    .dataframe tbody tr th:only-of-type {\n",
       "        vertical-align: middle;\n",
       "    }\n",
       "\n",
       "    .dataframe tbody tr th {\n",
       "        vertical-align: top;\n",
       "    }\n",
       "\n",
       "    .dataframe thead th {\n",
       "        text-align: right;\n",
       "    }\n",
       "</style>\n",
       "<table border=\"1\" class=\"dataframe\">\n",
       "  <thead>\n",
       "    <tr style=\"text-align: right;\">\n",
       "      <th></th>\n",
       "      <th>date</th>\n",
       "      <th>close</th>\n",
       "    </tr>\n",
       "  </thead>\n",
       "  <tbody>\n",
       "    <tr>\n",
       "      <th>0</th>\n",
       "      <td>2006-01-01</td>\n",
       "      <td>45.22</td>\n",
       "    </tr>\n",
       "    <tr>\n",
       "      <th>1</th>\n",
       "      <td>2006-02-01</td>\n",
       "      <td>38.82</td>\n",
       "    </tr>\n",
       "    <tr>\n",
       "      <th>2</th>\n",
       "      <td>2006-03-01</td>\n",
       "      <td>36.38</td>\n",
       "    </tr>\n",
       "    <tr>\n",
       "      <th>3</th>\n",
       "      <td>2006-04-01</td>\n",
       "      <td>36.32</td>\n",
       "    </tr>\n",
       "    <tr>\n",
       "      <th>4</th>\n",
       "      <td>2006-05-01</td>\n",
       "      <td>34.13</td>\n",
       "    </tr>\n",
       "  </tbody>\n",
       "</table>\n",
       "</div>"
      ],
      "text/plain": [
       "        date  close\n",
       "0 2006-01-01  45.22\n",
       "1 2006-02-01  38.82\n",
       "2 2006-03-01  36.38\n",
       "3 2006-04-01  36.32\n",
       "4 2006-05-01  34.13"
      ]
     },
     "execution_count": 2,
     "metadata": {
      "tags": []
     },
     "output_type": "execute_result"
    }
   ],
   "source": [
    "df = pd.read_excel('amazon_stocks_prices.xlsx')\n",
    "df.head()"
   ]
  },
  {
   "cell_type": "markdown",
   "metadata": {
    "id": "XYC7L_OfyTGE"
   },
   "source": [
    "### Checking info "
   ]
  },
  {
   "cell_type": "markdown",
   "metadata": {
    "id": "3zCpvSUX72mH"
   },
   "source": [
    "### **Question 1: Check the info of the dataset and write your observations. (2 Marks)**"
   ]
  },
  {
   "cell_type": "code",
   "execution_count": null,
   "metadata": {
    "id": "z1os8wEZyTGF"
   },
   "outputs": [],
   "source": [
    "#Write your code here"
   ]
  },
  {
   "cell_type": "markdown",
   "metadata": {
    "id": "yejYCE0eyTGF"
   },
   "source": [
    "**Observations:_____________**"
   ]
  },
  {
   "cell_type": "code",
   "execution_count": null,
   "metadata": {
    "colab": {
     "base_uri": "https://localhost:8080/",
     "height": 227
    },
    "id": "4aaCUhZVIgP7",
    "outputId": "7a16771e-c815-4e5f-96df-8c807c17f5a8"
   },
   "outputs": [
    {
     "data": {
      "text/html": [
       "<div>\n",
       "<style scoped>\n",
       "    .dataframe tbody tr th:only-of-type {\n",
       "        vertical-align: middle;\n",
       "    }\n",
       "\n",
       "    .dataframe tbody tr th {\n",
       "        vertical-align: top;\n",
       "    }\n",
       "\n",
       "    .dataframe thead th {\n",
       "        text-align: right;\n",
       "    }\n",
       "</style>\n",
       "<table border=\"1\" class=\"dataframe\">\n",
       "  <thead>\n",
       "    <tr style=\"text-align: right;\">\n",
       "      <th></th>\n",
       "      <th>close</th>\n",
       "    </tr>\n",
       "    <tr>\n",
       "      <th>date</th>\n",
       "      <th></th>\n",
       "    </tr>\n",
       "  </thead>\n",
       "  <tbody>\n",
       "    <tr>\n",
       "      <th>2006-01-01</th>\n",
       "      <td>45.22</td>\n",
       "    </tr>\n",
       "    <tr>\n",
       "      <th>2006-02-01</th>\n",
       "      <td>38.82</td>\n",
       "    </tr>\n",
       "    <tr>\n",
       "      <th>2006-03-01</th>\n",
       "      <td>36.38</td>\n",
       "    </tr>\n",
       "    <tr>\n",
       "      <th>2006-04-01</th>\n",
       "      <td>36.32</td>\n",
       "    </tr>\n",
       "    <tr>\n",
       "      <th>2006-05-01</th>\n",
       "      <td>34.13</td>\n",
       "    </tr>\n",
       "  </tbody>\n",
       "</table>\n",
       "</div>"
      ],
      "text/plain": [
       "            close\n",
       "date             \n",
       "2006-01-01  45.22\n",
       "2006-02-01  38.82\n",
       "2006-03-01  36.38\n",
       "2006-04-01  36.32\n",
       "2006-05-01  34.13"
      ]
     },
     "execution_count": 4,
     "metadata": {
      "tags": []
     },
     "output_type": "execute_result"
    }
   ],
   "source": [
    "# Setting date as the index\n",
    "df = df.set_index(['date'])\n",
    "df.head()"
   ]
  },
  {
   "cell_type": "markdown",
   "metadata": {
    "id": "S0_r4xSFyTGG"
   },
   "source": [
    "Now, let's **visualize the time series** to get an idea about the trend and/or seasonality within the data."
   ]
  },
  {
   "cell_type": "code",
   "execution_count": null,
   "metadata": {
    "colab": {
     "base_uri": "https://localhost:8080/",
     "height": 530
    },
    "id": "n6us8-mbJLkz",
    "outputId": "51cd1f6b-90bf-48df-ec6d-50acdd1ed430"
   },
   "outputs": [
    {
     "data": {
      "text/plain": [
       "[<matplotlib.lines.Line2D at 0x28d75276520>]"
      ]
     },
     "execution_count": 5,
     "metadata": {
      "tags": []
     },
     "output_type": "execute_result"
    },
    {
     "data": {
      "image/png": "[encoded data removed]",
      "text/plain": [
       "<Figure size 1152x576 with 1 Axes>"
      ]
     },
     "metadata": {
      "needs_background": "light",
      "tags": []
     },
     "output_type": "display_data"
    }
   ],
   "source": [
    "# Visualizing the time series\n",
    "plt.figure(figsize=(16,8))\n",
    "plt.xlabel(\"Month\")\n",
    "plt.ylabel(\"Closing Prices\")\n",
    "plt.title('Amazon Stock Prices')\n",
    "plt.plot(df.index, df.close, color = 'c', marker='.')"
   ]
  },
  {
   "cell_type": "markdown",
   "metadata": {
    "id": "0dFH_yieMw-_"
   },
   "source": [
    "**Observations:**\n",
    "- We can see that the series has an **upward trend with some seasonality.** This implies that the **average stock price of Amazon has been increasing almost every year.**\n",
    "- Before building different models, it is important to **check whether the series is stationary or not.**\n",
    "\n",
    "Let us first split the dataset into train and test data"
   ]
  },
  {
   "cell_type": "markdown",
   "metadata": {
    "id": "CByBcO2AMb8S"
   },
   "source": [
    "### Splitting the dataset"
   ]
  },
  {
   "cell_type": "code",
   "execution_count": null,
   "metadata": {
    "colab": {
     "base_uri": "https://localhost:8080/"
    },
    "id": "VGBcb_XQrACZ",
    "outputId": "8ad1d5c7-f83d-4ad6-ac23-28f994e8690b"
   },
   "outputs": [
    {
     "name": "stdout",
     "output_type": "stream",
     "text": [
      "             close\n",
      "date              \n",
      "2006-01-01   45.22\n",
      "2006-02-01   38.82\n",
      "2006-03-01   36.38\n",
      "2006-04-01   36.32\n",
      "2006-05-01   34.13\n",
      "...            ...\n",
      "2015-08-01  518.46\n",
      "2015-09-01  520.96\n",
      "2015-10-01  566.74\n",
      "2015-11-01  657.70\n",
      "2015-12-01  669.26\n",
      "\n",
      "[120 rows x 1 columns]\n",
      "              close\n",
      "date               \n",
      "2016-01-01   601.06\n",
      "2016-02-01   530.62\n",
      "2016-03-01   572.37\n",
      "2016-04-01   613.59\n",
      "2016-05-01   697.47\n",
      "2016-06-01   716.39\n",
      "2016-07-01   741.47\n",
      "2016-08-01   764.84\n",
      "2016-09-01   788.97\n",
      "2016-10-01   824.44\n",
      "2016-11-01   763.34\n",
      "2016-12-01   763.33\n",
      "2017-01-01   807.51\n",
      "2017-02-01   835.75\n",
      "2017-03-01   854.24\n",
      "2017-04-01   903.39\n",
      "2017-05-01   961.72\n",
      "2017-06-01   990.44\n",
      "2017-07-01  1008.48\n",
      "2017-08-01   971.44\n",
      "2017-09-01   968.99\n",
      "2017-10-01  1000.72\n",
      "2017-11-01  1139.81\n",
      "2017-12-01  1168.84\n"
     ]
    }
   ],
   "source": [
    "# Splitting the data into train and test\n",
    "df_train = df.loc['2006-01-01':'2015-12-01']\n",
    "df_test = df.loc['2016-01-01' : '2017-12-01']\n",
    "print(df_train)\n",
    "print(df_test)"
   ]
  },
  {
   "cell_type": "markdown",
   "metadata": {
    "id": "v8K-Y566NBXt"
   },
   "source": [
    "Now let us check the **rolling mean and standard deviation** of the series to **visualize if the series has any trend or seasonality.**"
   ]
  },
  {
   "cell_type": "markdown",
   "metadata": {
    "id": "TQELl40wMkUq"
   },
   "source": [
    "### Testing the stationarity of the series"
   ]
  },
  {
   "cell_type": "code",
   "execution_count": null,
   "metadata": {
    "colab": {
     "base_uri": "https://localhost:8080/",
     "height": 499
    },
    "id": "GF6CpDXzNNj0",
    "outputId": "d6c47c2b-fb0e-4a60-f012-e65e0c95ebe2"
   },
   "outputs": [
    {
     "data": {
      "image/png": "[encoded data removed]",
      "text/plain": [
       "<Figure size 1152x576 with 1 Axes>"
      ]
     },
     "metadata": {
      "needs_background": "light",
      "tags": []
     },
     "output_type": "display_data"
    }
   ],
   "source": [
    "# Calculating the rolling mean and standard deviation for a window of 12 observations\n",
    "rolmean=df_train.rolling(window=12).mean()\n",
    "rolstd=df_train.rolling(window=12).std()\n",
    "\n",
    "#Visualizing the rolling mean and standard deviation\n",
    "\n",
    "plt.figure(figsize=(16,8))\n",
    "actual = plt.plot(df_train, color='c', label='Actual Series')\n",
    "rollingmean = plt.plot(rolmean, color='red', label='Rolling Mean') \n",
    "#rollingstd = plt.plot(rolstd, color='green', label='Rolling Std. Dev.')\n",
    "plt.title('Rolling Mean & Standard Deviation of the Series')\n",
    "plt.legend()\n",
    "plt.show()"
   ]
  },
  {
   "cell_type": "markdown",
   "metadata": {
    "id": "ylSjsdZlN0Vp"
   },
   "source": [
    "**Observations:**\n",
    "- We can see there is an upward trend in the series.\n",
    "- We can confirm that **the series is not stationary.**"
   ]
  },
  {
   "cell_type": "markdown",
   "metadata": {
    "id": "xqztvb09OOWK"
   },
   "source": [
    "We can also use the **Augmented Dickey-Fuller (ADF) Test** to verify if the series is stationary or not.\n",
    "The null and alternate hypotheses for the ADF Test are defined as: \n",
    "- **Null hypothesis:** The Time Series is non-stationary\n",
    "- **Alternative hypothesis:** The Time Series is stationary"
   ]
  },
  {
   "cell_type": "code",
   "execution_count": null,
   "metadata": {
    "colab": {
     "base_uri": "https://localhost:8080/"
    },
    "id": "9PSHUSplGGpS",
    "outputId": "1fab7ce9-dced-4346-f5fe-e51cadc35fff"
   },
   "outputs": [
    {
     "name": "stdout",
     "output_type": "stream",
     "text": [
      "Dickey-Fuller Test: \n",
      "Test Statistic            3.464016\n",
      "p-value                   1.000000\n",
      "Lags Used                 0.000000\n",
      "No. of Observations     119.000000\n",
      "Critical Value (1%)      -3.486535\n",
      "Critical Value (5%)      -2.886151\n",
      "Critical Value (10%)     -2.579896\n",
      "dtype: float64\n"
     ]
    }
   ],
   "source": [
    "#Define a function to use adfuller test\n",
    "def adfuller(df_train):\n",
    "  #Importing adfuller using statsmodels\n",
    "  from statsmodels.tsa.stattools import adfuller\n",
    "  print('Dickey-Fuller Test: ')\n",
    "  adftest = adfuller(df_train['close'])\n",
    "  adfoutput = pd.Series(adftest[0:4], index=['Test Statistic','p-value','Lags Used','No. of Observations'])\n",
    "  for key,value in adftest[4].items():\n",
    "    adfoutput['Critical Value (%s)'%key] = value\n",
    "  print(adfoutput)\n",
    "adfuller(df_train)"
   ]
  },
  {
   "cell_type": "markdown",
   "metadata": {
    "id": "CcolxfvZOfkx"
   },
   "source": [
    "**Observations:**\n",
    "1. From the above test, we can see that the **p-value = 1 i.e. > 0.05** (For 95% confidence intervals) therefore, **we fail to reject the null hypothesis.**\n",
    "2. Hence, **we can confirm that the series is non-stationary.**"
   ]
  },
  {
   "cell_type": "markdown",
   "metadata": {
    "id": "AUylcu-hOmCe"
   },
   "source": [
    "### Making the series stationary"
   ]
  },
  {
   "cell_type": "markdown",
   "metadata": {
    "id": "AWQtEPXSOrJo"
   },
   "source": [
    "We can use some of the following methods to convert a non-stationary series into a stationary one:\n",
    "1. **Log Transformation**\n",
    "2. **By differencing the series (lagged series)**\n",
    "\n",
    "Let's first use a log transformation over this series to remove exponential variance and check the stationarity of the series again."
   ]
  },
  {
   "cell_type": "code",
   "execution_count": null,
   "metadata": {
    "colab": {
     "base_uri": "https://localhost:8080/",
     "height": 483
    },
    "id": "BNH9DkX0O97h",
    "outputId": "6da2f5a5-7b2c-43dd-f288-c6c7535cc945"
   },
   "outputs": [
    {
     "data": {
      "image/png": "[encoded data removed]",
      "text/plain": [
       "<Figure size 1152x576 with 1 Axes>"
      ]
     },
     "metadata": {
      "needs_background": "light",
      "tags": []
     },
     "output_type": "display_data"
    }
   ],
   "source": [
    "# Visualize the rolling mean and standard deviation after using log transformation\n",
    "plt.figure(figsize=(16,8))\n",
    "df_log = np.log(df_train)\n",
    "MAvg = df_log.rolling(window=12).mean()\n",
    "MStd = df_log.rolling(window=12).std()\n",
    "plt.plot(df_log)\n",
    "plt.plot(MAvg, color='r', label = 'Moving Average')\n",
    "plt.plot(MStd, color='g', label = 'Standard Deviation')\n",
    "plt.legend()\n",
    "plt.show()"
   ]
  },
  {
   "cell_type": "markdown",
   "metadata": {
    "id": "m6iuwGHPPZuQ"
   },
   "source": [
    "**Observations:**\n",
    "- Since **we can still see the upward trend in the series**, we can conclude that **the series is still non-stationary.** \n",
    "- However, the standard deviation is almost constant which implies that **now the series has constant variance.**"
   ]
  },
  {
   "cell_type": "markdown",
   "metadata": {
    "id": "5jzxXkgQPlhd"
   },
   "source": [
    "**Let's shift the series by order 1 (or by 1 month) & apply differencing (using lagged series)** and then check the rolling mean and standard deviation."
   ]
  },
  {
   "cell_type": "markdown",
   "metadata": {
    "id": "x9QunCej7Etr"
   },
   "source": [
    "### **Question 2: Visualize the rolling mean and rolling standard deviation of the shifted series (df_shift) and check the stationarity by calling the adfuller() function. Also, write your observations on the same. (3 Marks)**"
   ]
  },
  {
   "cell_type": "code",
   "execution_count": null,
   "metadata": {
    "id": "JJOcYwTZEwJi"
   },
   "outputs": [],
   "source": [
    "plt.figure(figsize=(16,8))\n",
    "df_shift = df_log - df_log.shift(periods = 1)\n",
    "MAvg_shift = ______________________________\n",
    "MStd_shift = ______________________________\n",
    "plt.plot(_________, color='c')\n",
    "plt.plot(__________, color='red', label = 'Moving Average')\n",
    "plt.plot(__________, color='green', label = 'Standard Deviation')\n",
    "plt.legend()\n",
    "plt.show()\n",
    "\n",
    "#Dropping the null values that we get after applying differencing method\n",
    "df_shift = df_shift.dropna()"
   ]
  },
  {
   "cell_type": "markdown",
   "metadata": {
    "id": "TJsYy2S1P32j"
   },
   "source": [
    "**Observations:___________________** \n",
    "\n",
    "Let us use the adfuller test to check the stationarity."
   ]
  },
  {
   "cell_type": "code",
   "execution_count": null,
   "metadata": {
    "id": "t42JhnQeP0b-"
   },
   "outputs": [],
   "source": [
    "#____________________ # call the adfuller function for df_shift series"
   ]
  },
  {
   "cell_type": "markdown",
   "metadata": {
    "id": "CxVdje3XPJ2y"
   },
   "source": [
    "**Observations:**\n",
    "- **________________________**\n",
    "\n",
    "Let's decompose the time series to check its different components."
   ]
  },
  {
   "cell_type": "markdown",
   "metadata": {
    "id": "Mvbug_60QN4t"
   },
   "source": [
    "### Decomposing the time series components into Trend, Seasonality and Residual"
   ]
  },
  {
   "cell_type": "code",
   "execution_count": null,
   "metadata": {
    "colab": {
     "base_uri": "https://localhost:8080/",
     "height": 297
    },
    "id": "ll-jF3olQVUM",
    "outputId": "70ed23f1-007b-45f7-ed28-7d6ed0c4f84e"
   },
   "outputs": [
    {
     "data": {
      "image/png": "[encoded data removed]",
      "text/plain": [
       "<Figure size 1080x720 with 4 Axes>"
      ]
     },
     "metadata": {
      "needs_background": "light",
      "tags": []
     },
     "output_type": "display_data"
    }
   ],
   "source": [
    "#Importing the seasonal_decompose function to decompose the time series\n",
    "from statsmodels.tsa.seasonal import seasonal_decompose\n",
    "decomp = seasonal_decompose(df_train)\n",
    "\n",
    "trend = decomp.trend\n",
    "seasonal = decomp.seasonal\n",
    "residual = decomp.resid\n",
    "\n",
    "plt.figure(figsize=(15,10))\n",
    "plt.subplot(411)\n",
    "plt.plot(df_train, label='Actual', marker='.')\n",
    "plt.legend(loc='upper left')\n",
    "plt.subplot(412)\n",
    "plt.plot(trend, label='Trend', marker='.')\n",
    "plt.legend(loc='upper left')\n",
    "plt.subplot(413)\n",
    "plt.plot(seasonal, label='Seasonality', marker='.')\n",
    "plt.legend(loc='upper left')\n",
    "plt.subplot(414)\n",
    "plt.plot(residual, label='Residuals', marker='.')\n",
    "plt.legend(loc='upper left')\n",
    "plt.tight_layout()"
   ]
  },
  {
   "cell_type": "markdown",
   "metadata": {
    "id": "U7EMaq0kQf9A"
   },
   "source": [
    "**Observations:**\n",
    "- We can see that there are significant **trend, seasonality and residuals components** in the series\n",
    "- The plot for seasonality shows that **Amazon's stock prices spike in July, September, and December.**\n",
    "\n",
    "**Now let's move on to the model building section. First, we will plot the `ACF` and `PACF` plots to get the values of p and q i.e. order of AR and MA models to be used.**"
   ]
  },
  {
   "cell_type": "markdown",
   "metadata": {
    "id": "BNZ5TDfFQhia"
   },
   "source": [
    "### Plotting the auto-correlation function and partial auto-correlation function to get p and q values for AR, MA, ARMA, and ARIMA models"
   ]
  },
  {
   "cell_type": "code",
   "execution_count": null,
   "metadata": {
    "colab": {
     "base_uri": "https://localhost:8080/",
     "height": 562
    },
    "id": "Npj2l97-jShn",
    "outputId": "e34f0ee4-7288-47aa-8c75-b484ee53728e"
   },
   "outputs": [
    {
     "data": {
      "text/plain": [
       "<Figure size 1152x576 with 0 Axes>"
      ]
     },
     "metadata": {
      "tags": []
     },
     "output_type": "display_data"
    },
    {
     "data": {
      "image/png": "[encoded data removed]",
      "text/plain": [
       "<Figure size 432x288 with 1 Axes>"
      ]
     },
     "metadata": {
      "needs_background": "light",
      "tags": []
     },
     "output_type": "display_data"
    },
    {
     "data": {
      "image/png": "[encoded data removed]",
      "text/plain": [
       "<Figure size 432x288 with 1 Axes>"
      ]
     },
     "metadata": {
      "needs_background": "light",
      "tags": []
     },
     "output_type": "display_data"
    }
   ],
   "source": [
    "from statsmodels.graphics.tsaplots import plot_acf,plot_pacf\n",
    "\n",
    "plt.figure(figsize = (16,8))\n",
    "plot_acf(df_shift, lags = 12) \n",
    "plt.show() \n",
    "plot_pacf(df_shift, lags = 12) \n",
    "plt.show()"
   ]
  },
  {
   "cell_type": "markdown",
   "metadata": {
    "id": "qjvHsnyplXGA"
   },
   "source": [
    "**Observations:**\n",
    "- From the above PACF plot we can see that **the highest lag** at which the plot extends beyond the statistically significant boundary is **lag 1.** \n",
    "- This indicates that an **AR Model of lag 1 (p=1)** should be sufficient to fit the data.\n",
    "- Similarly, from the ACF plot, we can infer that **q=1.**"
   ]
  },
  {
   "cell_type": "markdown",
   "metadata": {
    "id": "de-VRmaXRVT4"
   },
   "source": [
    "### AR Model"
   ]
  },
  {
   "cell_type": "markdown",
   "metadata": {
    "id": "vC69PTrp8QXF"
   },
   "source": [
    "### **Question 3: Fit and predict the shifted series with the AR Model and calculate the RMSE. Also, visualize the time series and write your observations. (5 Marks)**"
   ]
  },
  {
   "cell_type": "code",
   "execution_count": null,
   "metadata": {
    "id": "rTjpvVnJyTGN"
   },
   "outputs": [],
   "source": [
    "#Importing AutoReg function to apply AR model\n",
    "from statsmodels.tsa.ar_model import AutoReg\n",
    "\n",
    "plt.figure(figsize=(16,8))\n",
    "model_AR = _______________ #Use number of lags as 1 and apply AutoReg function on df_shift series\n",
    "results_AR = ________________ #fit the model\n",
    "plt.plot(df_shift)\n",
    "predict = ______________________________ #predict the series \n",
    "predict = predict.fillna(0) #Converting NaN values to 0\n",
    "plt.plot(___________, color='red')\n",
    "plt.title('AR Model - RMSE: %.4f'% mean_squared_error(predict,df_shift['close'], squared=False))  #Calculating rmse\n",
    "plt.show()"
   ]
  },
  {
   "cell_type": "markdown",
   "metadata": {
    "id": "vIYE0RaHyTGO"
   },
   "source": [
    "**Observations:________________________**\n",
    "\n",
    "**Let's check the AIC value** of the model"
   ]
  },
  {
   "cell_type": "code",
   "execution_count": null,
   "metadata": {
    "colab": {
     "base_uri": "https://localhost:8080/",
     "height": 295
    },
    "id": "g258w5rrIAR2",
    "outputId": "6417f98a-e1a6-438c-ec80-712a6196dbda"
   },
   "outputs": [
    {
     "data": {
      "text/plain": [
       "-4.781419615400342"
      ]
     },
     "execution_count": 15,
     "metadata": {
      "tags": []
     },
     "output_type": "execute_result"
    }
   ],
   "source": [
    "results_AR.aic"
   ]
  },
  {
   "cell_type": "markdown",
   "metadata": {
    "id": "b2aUKeuSRhPG"
   },
   "source": [
    "Now, let's build MA, ARMA, and ARIMA models as well, and see if we can get a better model "
   ]
  },
  {
   "cell_type": "markdown",
   "metadata": {
    "id": "EjEdx7vaSyGV"
   },
   "source": [
    "### MA Model"
   ]
  },
  {
   "cell_type": "markdown",
   "metadata": {
    "id": "o-gQpPS1yTGQ"
   },
   "source": [
    "**We will be using an ARIMA model with p=0 and d=0 so that it will work as an MA model**"
   ]
  },
  {
   "cell_type": "markdown",
   "metadata": {
    "id": "irexoL879EOY"
   },
   "source": [
    "### **Question 4: Fit and predict the shifted series with the MA Model and calculate the RMSE. Also, visualize the time series and write your observations. (2 Marks)**"
   ]
  },
  {
   "cell_type": "code",
   "execution_count": null,
   "metadata": {
    "id": "mewnDvWGS1ow"
   },
   "outputs": [],
   "source": [
    "from statsmodels.tsa.arima_model import ARIMA\n",
    "plt.figure(figsize=(16,8))\n",
    "model_MA = _________________ #Using p=0, d=0, q=1 and apply ARIMA function on df_shift series\n",
    "results_MA = _____________ #fit the model\n",
    "plt.plot(________)\n",
    "plt.plot(_________________, color='red')\n",
    "plt.title('MA Model - RMSE: %.4f'% mean_squared_error(results_MA.fittedvalues,df_shift['close'], squared=False))\n",
    "plt.show()"
   ]
  },
  {
   "cell_type": "markdown",
   "metadata": {
    "id": "CXPJFw6dyTGR"
   },
   "source": [
    "**Observations:________________________**\n",
    "\n",
    "Let's check the AIC value of the model"
   ]
  },
  {
   "cell_type": "code",
   "execution_count": null,
   "metadata": {
    "colab": {
     "base_uri": "https://localhost:8080/",
     "height": 295
    },
    "id": "JTBiP8BKI9tn",
    "outputId": "9f21fd4b-1792-4601-eaf6-a7e0dcf114e0"
   },
   "outputs": [
    {
     "data": {
      "text/plain": [
       "-229.09493835479742"
      ]
     },
     "execution_count": 17,
     "metadata": {
      "tags": []
     },
     "output_type": "execute_result"
    }
   ],
   "source": [
    "results_MA.aic"
   ]
  },
  {
   "cell_type": "markdown",
   "metadata": {
    "id": "HQ4pPz-8TJt7"
   },
   "source": [
    "- **The MA model is giving a much lower AIC** when compared to the AR model, implying that **the MA model fits the training data better.** "
   ]
  },
  {
   "cell_type": "markdown",
   "metadata": {
    "id": "IOUk6AyoTP_N"
   },
   "source": [
    "### ARMA Model"
   ]
  },
  {
   "cell_type": "markdown",
   "metadata": {
    "id": "5--YYKy9TVIR"
   },
   "source": [
    "We will be using an **ARIMA model with p=1 and q=1** (as observed from the ACF and PACF plots) **and d=0 so that it will work as an ARMA model.**"
   ]
  },
  {
   "cell_type": "markdown",
   "metadata": {
    "id": "s1ERtOVa9R54"
   },
   "source": [
    "### **Question 5: Fit and predict the shifted series with the ARMA Model and calculate the RMSE. Also, visualize the time series and write your observations. (2 Marks)**"
   ]
  },
  {
   "cell_type": "code",
   "execution_count": null,
   "metadata": {
    "id": "8U6O6SYlWPa7"
   },
   "outputs": [],
   "source": [
    "plt.figure(figsize=(16,8))\n",
    "model_ARMA = _______________ #Using p=1, d=0, q=1 and apply ARIMA function on df_shift series\n",
    "results_ARMA = _______________ #fit the model\n",
    "plt.plot(_______)\n",
    "plt.plot(___________, color='red')\n",
    "plt.title('ARMA Model - RMSE: %.4f'% mean_squared_error(results_ARMA.fittedvalues,df_shift['close'], squared=False))\n",
    "plt.show()"
   ]
  },
  {
   "cell_type": "markdown",
   "metadata": {
    "id": "ldjx2ysNyTGT"
   },
   "source": [
    "**Observations:**\n",
    "- **________________________**\n",
    "\n",
    "**Let's check the AIC value** of the model"
   ]
  },
  {
   "cell_type": "code",
   "execution_count": null,
   "metadata": {
    "colab": {
     "base_uri": "https://localhost:8080/",
     "height": 335
    },
    "id": "HpZS_2j0Tf2n",
    "outputId": "a6ff01fd-61b9-436b-c7d2-b28b0ebf5fb8"
   },
   "outputs": [
    {
     "data": {
      "text/plain": [
       "-227.11129132564088"
      ]
     },
     "execution_count": 19,
     "metadata": {
      "tags": []
     },
     "output_type": "execute_result"
    }
   ],
   "source": [
    "results_ARMA.aic"
   ]
  },
  {
   "cell_type": "markdown",
   "metadata": {
    "id": "mEUa54hKMpB0"
   },
   "source": [
    "- **The AIC value of the ARMA model is more or less similar** to MA model \n",
    "\n",
    "**Let us try using the ARIMA Model.**"
   ]
  },
  {
   "cell_type": "markdown",
   "metadata": {
    "id": "8PfixH2PM4aQ"
   },
   "source": [
    "### ARIMA Model"
   ]
  },
  {
   "cell_type": "markdown",
   "metadata": {
    "id": "6U5N8fYX9Xz9"
   },
   "source": [
    "We will be using an **ARIMA Model with p=1, d=1, & q=1**."
   ]
  },
  {
   "cell_type": "markdown",
   "metadata": {
    "id": "5fj4sYxh9fQ2"
   },
   "source": [
    "### **Question 6: Fit and predict the shifted series with the ARIMA Model and calculate the RMSE. Also, visualize the time series and write your observations. (2 Marks)**"
   ]
  },
  {
   "cell_type": "code",
   "execution_count": null,
   "metadata": {
    "id": "SkM4j0ISyTGV"
   },
   "outputs": [],
   "source": [
    "from statsmodels.tsa.arima_model import ARIMA\n",
    "\n",
    "plt.figure(figsize=(16,8))\n",
    "model_ARIMA = ________________ #Using p=1, d=1, q=1 and apply ARIMA function on df_log series\n",
    "results_ARIMA = ___________________ #fit the model\n",
    "plt.plot(___________)\n",
    "plt.plot(________________, color='red')\n",
    "plt.title('ARIMA Model - RMSE: %.4f'% mean_squared_error(results_ARIMA.fittedvalues,df_shift['close'], squared=False))\n",
    "plt.show()"
   ]
  },
  {
   "cell_type": "markdown",
   "metadata": {
    "id": "9s_4b7OZyTGV"
   },
   "source": [
    "**Observations:________**\n",
    "\n",
    "**Let's check the AIC value** of the model"
   ]
  },
  {
   "cell_type": "code",
   "execution_count": null,
   "metadata": {
    "colab": {
     "base_uri": "https://localhost:8080/",
     "height": 335
    },
    "id": "XLkC21IWSeO3",
    "outputId": "569e240f-91eb-4d86-99c1-c90dc10a693e"
   },
   "outputs": [
    {
     "data": {
      "text/plain": [
       "-227.11129236959937"
      ]
     },
     "execution_count": 21,
     "metadata": {
      "tags": []
     },
     "output_type": "execute_result"
    }
   ],
   "source": [
    "results_ARIMA.aic"
   ]
  },
  {
   "cell_type": "markdown",
   "metadata": {
    "id": "nZuxf9sSyTGW"
   },
   "source": [
    "- **The AIC value of the ARIMA model is the same** as the ARMA model. \n",
    "\n",
    "We can see that **all the models return almost the same RMSE.** There is not much difference in AIC value as well across all the models except for the AR model.\n",
    "\n",
    "**We can choose to predict the values using ARIMA as it takes into account more factors than AR, MA, ARMA models.**"
   ]
  },
  {
   "cell_type": "code",
   "execution_count": null,
   "metadata": {
    "colab": {
     "base_uri": "https://localhost:8080/"
    },
    "id": "LnxW2q8DX2KR",
    "outputId": "199afe8e-1200-4730-f6fd-f2d1cab3d866"
   },
   "outputs": [
    {
     "data": {
      "text/plain": [
       "date\n",
       "2006-02-01    0.022235\n",
       "2006-03-01   -0.019667\n",
       "2006-04-01    0.009184\n",
       "2006-05-01    0.018985\n",
       "2006-06-01    0.001615\n",
       "                ...   \n",
       "2015-08-01    0.043234\n",
       "2015-09-01    0.032286\n",
       "2015-10-01    0.015696\n",
       "2015-11-01    0.039276\n",
       "2015-12-01    0.050567\n",
       "Length: 119, dtype: float64"
      ]
     },
     "execution_count": 22,
     "metadata": {
      "tags": []
     },
     "output_type": "execute_result"
    }
   ],
   "source": [
    "# Printing the fitted values\n",
    "predictions=pd.Series(results_ARIMA.fittedvalues)\n",
    "predictions"
   ]
  },
  {
   "cell_type": "markdown",
   "metadata": {
    "id": "BkoLt_MKT1gL"
   },
   "source": [
    "### Inverse Transformation"
   ]
  },
  {
   "cell_type": "markdown",
   "metadata": {
    "id": "pYQWOVnrT3jB"
   },
   "source": [
    "Now we have fitted values using the ARIMA model, **we will use the inverse transformation to get back the original values.**"
   ]
  },
  {
   "cell_type": "markdown",
   "metadata": {
    "id": "PIhu5jLQ9lzq"
   },
   "source": [
    "### **Question 7: Apply an inverse transformation on the predictions of the ARIMA Model. (5 Marks)**"
   ]
  },
  {
   "cell_type": "code",
   "execution_count": null,
   "metadata": {
    "id": "vzLZ2mKKWZgm"
   },
   "outputs": [],
   "source": [
    "#First step - doing cumulative sum\n",
    "predictions_cumsum = _______________ # use .cumsum fuction on the predictions\n",
    "predictions_cumsum"
   ]
  },
  {
   "cell_type": "code",
   "execution_count": null,
   "metadata": {
    "id": "P-yrFpFeUfrR"
   },
   "outputs": [],
   "source": [
    "#Second step - Adding the first value of the log series to the cumulative sum values\n",
    "predictions_log = pd.Series(df_log['close'].iloc[0], index=df_log.index)\n",
    "predictions_log = predictions_log.add(predictions_cumsum, fill_value=0)\n",
    "predictions_log"
   ]
  },
  {
   "cell_type": "code",
   "execution_count": null,
   "metadata": {
    "id": "XfUCTkPsXvAZ"
   },
   "outputs": [],
   "source": [
    "#Third step - applying exponential transformation\n",
    "predictions_ARIMA = _________________ #use exponential function\n",
    "predictions_ARIMA"
   ]
  },
  {
   "cell_type": "code",
   "execution_count": null,
   "metadata": {
    "id": "h2QWkVpHX-sc"
   },
   "outputs": [],
   "source": [
    "#Plotting the original vs predicted series\n",
    "plt.figure(figsize=(16,8))\n",
    "plt.plot(________, color = 'c', label = 'Original Series')  #plot the original train series\n",
    "plt.plot(_____________, color = 'r', label = 'Predicted Series')  #plot the predictions_ARIMA \n",
    "plt.title('Actual vs Predicted')\n",
    "plt.legend()\n",
    "plt.show()"
   ]
  },
  {
   "cell_type": "markdown",
   "metadata": {
    "id": "DhmkAWfdUvnn"
   },
   "source": [
    "**Observations:**\n",
    "- We can see that **the predicted series is very similar to the original series** i.e. The model is good at predicting values on the training data except for the dip in stock prices in 2015 which may have been due to some external factors that are not included in this model. \n",
    "- Let us **forecast the closing prices for the next 24 months.**"
   ]
  },
  {
   "cell_type": "markdown",
   "metadata": {
    "id": "oClL4WRFU1kk"
   },
   "source": [
    "### Forecasting the values for next 24 months and compare it with test data"
   ]
  },
  {
   "cell_type": "markdown",
   "metadata": {
    "id": "LrcEHAMyVIUU"
   },
   "source": [
    "**To forecast the values for the next 24 months using the ARIMA model, we need to follow the steps below:**\n",
    "1. Forecast the log-transformed fitted values for the next 24 months\n",
    "2. Make a list of these 24 month (2016-2017) forecasted values\n",
    "3. Convert that list into a series so that we can work with pandas functions \n",
    "4. Make a dataframe where we have the dates starting from 2016-01-01 to 2017-12-01 as the index and the respective forecasted values\n",
    "5. Apply the inverse transformation and get the real forecasted values"
   ]
  },
  {
   "cell_type": "markdown",
   "metadata": {
    "id": "r_95Tb-R91mv"
   },
   "source": [
    "### **Question 8: Forecast the stocks prices for the next 24 months and perform the inverse transformation. (5 Marks)**"
   ]
  },
  {
   "cell_type": "code",
   "execution_count": null,
   "metadata": {
    "id": "qPGavuMbYBdo"
   },
   "outputs": [],
   "source": [
    "#Forecasting the values for next 24 months\n",
    "forecasted_ARIMA = _____________________ #forecast using the results_ARIMA for next 24 months. Keep steps=24\n",
    "forecasted_ARIMA[0]"
   ]
  },
  {
   "cell_type": "code",
   "execution_count": null,
   "metadata": {
    "id": "iMJlZZJUv0zc"
   },
   "outputs": [],
   "source": [
    "# Creating a list containing all the forecasted values\n",
    "list1 = forecasted_ARIMA[0].tolist()\n",
    "series1 = pd.Series(list1)\n",
    "series1"
   ]
  },
  {
   "cell_type": "code",
   "execution_count": null,
   "metadata": {
    "id": "2tfhcKs3xBvI"
   },
   "outputs": [],
   "source": [
    "#Making a new dataframe to get the additional dates from 2016-2018\n",
    "index = pd.date_range('2016-01-1','2018-1-1' , freq='1M')- pd.offsets.MonthBegin(1)\n",
    "df1 = pd.DataFrame()\n",
    "df1['forecasted'] = series1\n",
    "df1.index = index\n",
    "df1"
   ]
  },
  {
   "cell_type": "code",
   "execution_count": null,
   "metadata": {
    "id": "TSwVH2oSWA05"
   },
   "outputs": [],
   "source": [
    "#Applying exponential transformation to the forecasted log values\n",
    "forecasted_ARIMA = _________________ #use exponential function on forecasted data\n",
    "forecasted_ARIMA"
   ]
  },
  {
   "cell_type": "markdown",
   "metadata": {
    "id": "__IDr00lyTGd"
   },
   "source": [
    "Now, let's try to visualize the original data with the predicted values on the training data and the forecasted values."
   ]
  },
  {
   "cell_type": "code",
   "execution_count": null,
   "metadata": {
    "id": "U5KUhxARyTGd"
   },
   "outputs": [],
   "source": [
    "#Plotting the original vs predicted series\n",
    "plt.figure(figsize=(16,8))\n",
    "plt.plot(df, color = 'c', label = 'Original Series')\n",
    "plt.plot(__________, color = 'r', label = 'Prediction on Train data') #plot the predictions_ARIMA series\n",
    "plt.plot(__________, label = 'Prediction on Test data', color='b')  #plot the forecasted_ARIMA series\n",
    "plt.title('Actual vs Predicted')\n",
    "plt.legend()\n",
    "plt.show()"
   ]
  },
  {
   "cell_type": "markdown",
   "metadata": {
    "id": "9L3FTQbqyTGe"
   },
   "source": [
    "**Observations:**\n",
    "- **As observed earlier, most of the predicted values on the training data are very close to the actual values** except for the dip in stock prices in the year 2015.\n",
    "- **On the test data, the model is able to correctly predict the trend of the stock prices**, as we can see that the blue line appears to be close to the actual values (cyan blue) and they both have an upward trend. **However the test predictions are not able to identify the volatile variations in the stock prices over the last 2 years.**\n",
    "\n",
    "Let's test the RMSE of the transformed predictions and the original value on the training and testing data to check whether the model is giving a generalized performance or not."
   ]
  },
  {
   "cell_type": "markdown",
   "metadata": {
    "id": "_k5aeHV9-JQv"
   },
   "source": [
    "### **Question 9: Check the RMSE on the original train and test data and write your conclusion from the above analysis. (4 Marks)**"
   ]
  },
  {
   "cell_type": "code",
   "execution_count": null,
   "metadata": {
    "id": "PpM76tyIyTGe"
   },
   "outputs": [],
   "source": [
    "from sklearn.metrics import mean_squared_error\n",
    "error = ____________________________ #calculate RMSE using the predictions_ARIMA and df_train \n",
    "error"
   ]
  },
  {
   "cell_type": "code",
   "execution_count": null,
   "metadata": {
    "id": "GTYO1bXLmJ16"
   },
   "outputs": [],
   "source": [
    "from sklearn.metrics import mean_squared_error\n",
    "error = _________________________  #calculate RMSE using the forecasted_ARIMA and df_test"
   ]
  },
  {
   "cell_type": "markdown",
   "metadata": {
    "id": "fExfrwa_w0v7"
   },
   "source": [
    "### Conclusion"
   ]
  },
  {
   "cell_type": "markdown",
   "metadata": {
    "id": "Gp8DNBlAw503"
   },
   "source": [
    "**Write your conclusion here**"
   ]
  }
 ],
 "metadata": {
  "colab": {
   "collapsed_sections": [
    "CByBcO2AMb8S",
    "TQELl40wMkUq",
    "AUylcu-hOmCe",
    "EjEdx7vaSyGV",
    "8PfixH2PM4aQ",
    "BkoLt_MKT1gL"
   ],
   "name": "Learner_Notebook_Project_Time_Series.ipynb",
   "provenance": []
  },
  "kernelspec": {
   "display_name": "Python 3",
   "language": "python",
   "name": "python3"
  },
  "language_info": {
   "codemirror_mode": {
    "name": "ipython",
    "version": 3
   },
   "file_extension": ".py",
   "mimetype": "text/x-python",
   "name": "python",
   "nbconvert_exporter": "python",
   "pygments_lexer": "ipython3",
   "version": "3.8.3"
  }
 },
 "nbformat": 4,
 "nbformat_minor": 1
}
